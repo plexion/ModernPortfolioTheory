{
 "cells": [
  {
   "cell_type": "code",
   "execution_count": 13,
   "metadata": {},
   "outputs": [
    {
     "name": "stdout",
     "output_type": "stream",
     "text": [
      "OrderedDict({'GOOG': 0.08369, 'AAPL': 0.09537, 'FB': 0.11076, 'BABA': 0.067, 'AMZN': 0.10739, 'GE': 0.02716, 'AMD': 0.0, 'WMT': 0.03077, 'BAC': 0.0, 'GM': 0.0, 'T': 0.02196, 'UAA': 0.01522, 'SHLD': 0.0, 'XOM': 0.0432, 'RRC': 0.0, 'BBY': 0.06553, 'MA': 0.1515, 'PFE': 0.08498, 'JPM': 0.0251, 'SBUX': 0.07038})\n",
      "Expected annual return: 26.5%\n",
      "Annual volatility: 21.7%\n",
      "Sharpe Ratio: 1.13\n"
     ]
    },
    {
     "name": "stderr",
     "output_type": "stream",
     "text": [
      "/home/codespace/.python/current/lib/python3.12/site-packages/pypfopt/efficient_frontier/efficient_frontier.py:259: UserWarning: max_sharpe transforms the optimization problem so additional objectives may not work as expected.\n",
      "  warnings.warn(\n"
     ]
    },
    {
     "data": {
      "text/plain": [
       "(0.2650387590869301, 0.21662532560561654, 1.1311639504839912)"
      ]
     },
     "execution_count": 13,
     "metadata": {},
     "output_type": "execute_result"
    }
   ],
   "source": [
    "import pandas as pd\n",
    "from pypfopt import EfficientFrontier\n",
    "from pypfopt import risk_models\n",
    "from pypfopt import expected_returns\n",
    "from pypfopt import objective_functions\n",
    "from pypfopt import BlackLittermanModel\n",
    "\n",
    "# Read in price data\n",
    "df = pd.read_csv(\"stock_prices.csv\", parse_dates=True, index_col=\"date\")\n",
    "\n",
    "# Calculate expected returns and sample covariance\n",
    "mu = expected_returns.mean_historical_return(df)\n",
    "S = risk_models.sample_cov(df)\n",
    "\n",
    "# Optimize for maximal Sharpe ratio\n",
    "ef = EfficientFrontier(mu, S) #Add constraints: ef = EfficientFrontier(mu, S, weight_bounds=(0, 0.1)) #Max 10% on each weight.\n",
    "ef.add_objective(objective_functions.L2_reg, gamma=1) #Reduce zero-weights by adding penalty on small weights with a L2-regularization term\n",
    "raw_weights = ef.max_sharpe()\n",
    "cleaned_weights = ef.clean_weights()\n",
    "ef.save_weights_to_file(\"weights.csv\")  # saves to file\n",
    "print(cleaned_weights)\n",
    "ef.portfolio_performance(verbose=True)"
   ]
  },
  {
   "cell_type": "code",
   "execution_count": 11,
   "metadata": {},
   "outputs": [
    {
     "name": "stdout",
     "output_type": "stream",
     "text": [
      "Discrete allocation: {'MA': 20, 'FB': 12, 'PFE': 54, 'BABA': 4, 'AAPL': 4, 'GOOG': 1, 'BBY': 2, 'SBUX': 1}\n",
      "Funds remaining: $11.89\n"
     ]
    }
   ],
   "source": [
    "from pypfopt.discrete_allocation import DiscreteAllocation, get_latest_prices\n",
    "\n",
    "\n",
    "latest_prices = get_latest_prices(df)\n",
    "\n",
    "da = DiscreteAllocation(cleaned_weights, latest_prices, total_portfolio_value=10000)\n",
    "allocation, leftover = da.greedy_portfolio()\n",
    "print(\"Discrete allocation:\", allocation)\n",
    "print(\"Funds remaining: ${:.2f}\".format(leftover))"
   ]
  },
  {
   "cell_type": "markdown",
   "metadata": {},
   "source": [
    "### Black-Litterman allocation"
   ]
  },
  {
   "cell_type": "code",
   "execution_count": 14,
   "metadata": {},
   "outputs": [
    {
     "data": {
      "text/plain": [
       "OrderedDict([('GOOG', 0.0),\n",
       "             ('AAPL', 0.2516700243034513),\n",
       "             ('FB', 0.0061410740896274),\n",
       "             ('BABA', 0.0504178900290811),\n",
       "             ('AMZN', 0.0),\n",
       "             ('GE', 0.0),\n",
       "             ('AMD', 0.0),\n",
       "             ('WMT', 0.0),\n",
       "             ('BAC', 0.0),\n",
       "             ('GM', 0.0),\n",
       "             ('T', 0.6703436046652544),\n",
       "             ('UAA', 0.0),\n",
       "             ('SHLD', 0.0),\n",
       "             ('XOM', 0.0214274069125859),\n",
       "             ('RRC', 0.0),\n",
       "             ('BBY', 0.0),\n",
       "             ('MA', 0.0),\n",
       "             ('PFE', 0.0),\n",
       "             ('JPM', 0.0),\n",
       "             ('SBUX', 0.0)])"
      ]
     },
     "execution_count": 14,
     "metadata": {},
     "output_type": "execute_result"
    }
   ],
   "source": [
    "S = risk_models.sample_cov(df)\n",
    "viewdict = {\"AAPL\": 0.20, \"BBY\": -0.30, \"BAC\": 0, \"SBUX\": -0.2, \"T\": 0.131321}\n",
    "bl = BlackLittermanModel(S, pi=\"equal\", absolute_views=viewdict, omega=\"default\")\n",
    "rets = bl.bl_returns()\n",
    "\n",
    "ef = EfficientFrontier(rets, S)\n",
    "ef.max_sharpe()"
   ]
  },
  {
   "cell_type": "code",
   "execution_count": null,
   "metadata": {},
   "outputs": [],
   "source": [
    "from forex_python.converter import CurrencyRates\n",
    "import pandas as pd\n",
    "\n",
    "# Initialize the CurrencyRates object\n",
    "c = CurrencyRates()\n",
    "\n",
    "# Example dataframe with dates and prices in EUR\n",
    "df = pd.DataFrame({\n",
    "    'date': ['2023-01-01', '2023-01-02'],\n",
    "    'price_eur': [100, 105]\n",
    "})\n",
    "\n",
    "# Convert prices to USD\n",
    "df['price_usd'] = df.apply(lambda row: row['price_eur'] * c.get_rate('EUR', 'USD', row['date']), axis=1)\n",
    "print(df)\n"
   ]
  },
  {
   "cell_type": "markdown",
   "metadata": {},
   "source": [
    "\n",
    "- Frontline (FRO.OL): NOK (listed on the Oslo Stock Exchange)\n",
    "- Nordea Bank Abp (NDA-FI.HE): EUR (listed on the Helsinki Stock Exchange)\n",
    "- BAWAG Group AG (BG.VI): EUR (listed on the Vienna Stock Exchange)\n",
    "- CaixaBank (CABK.MC): EUR (listed on the Madrid Stock Exchange)\n",
    "- Danske Bank (DANSKE.CO): DKK (listed on the Copenhagen Stock Exchange)\n",
    "- McDonald’s (MCD): USD (listed on the NYSE)\n",
    "\n"
   ]
  },
  {
   "cell_type": "code",
   "execution_count": 18,
   "metadata": {},
   "outputs": [
    {
     "name": "stderr",
     "output_type": "stream",
     "text": [
      "[*********************100%***********************]  6 of 6 completed\n"
     ]
    },
    {
     "name": "stdout",
     "output_type": "stream",
     "text": [
      "Price                     Adj Close                                     \\\n",
      "Ticker                        BG.VI   CABK.MC   DANSKE.CO       FRO.OL   \n",
      "Date                                                                     \n",
      "2008-01-02 00:00:00+00:00       NaN  2.082304  122.023247  1177.066528   \n",
      "2008-01-03 00:00:00+00:00       NaN  2.042260  120.215500  1183.767700   \n",
      "2008-01-04 00:00:00+00:00       NaN  2.042260  117.955788  1125.696045   \n",
      "2008-01-07 00:00:00+00:00       NaN  1.982193  119.010323  1063.157471   \n",
      "2008-01-08 00:00:00+00:00       NaN  2.002215  120.215500  1078.791992   \n",
      "\n",
      "Price                                          Close                      \\\n",
      "Ticker                           MCD NDA-FI.HE BG.VI CABK.MC   DANSKE.CO   \n",
      "Date                                                                       \n",
      "2008-01-02 00:00:00+00:00  36.280491  4.380477   NaN    5.20  187.387222   \n",
      "2008-01-03 00:00:00+00:00  36.174335  4.392222   NaN    5.10  184.611115   \n",
      "2008-01-04 00:00:00+00:00  35.624828  4.306099   NaN    5.10  181.140976   \n",
      "2008-01-07 00:00:00+00:00  36.236786  4.321759   NaN    4.95  182.760376   \n",
      "2008-01-08 00:00:00+00:00  35.643555  4.321759   NaN    5.00  184.611115   \n",
      "\n",
      "Price                              ...        Open                     \\\n",
      "Ticker                     FRO.OL  ...   DANSKE.CO  FRO.OL        MCD   \n",
      "Date                               ...                                  \n",
      "2008-01-02 00:00:00+00:00  1317.5  ...  184.842453  1302.5  59.480000   \n",
      "2008-01-03 00:00:00+00:00  1325.0  ...  186.461853  1315.0  58.400002   \n",
      "2008-01-04 00:00:00+00:00  1260.0  ...  184.611115  1317.5  57.330002   \n",
      "2008-01-07 00:00:00+00:00  1190.0  ...  180.909637  1247.5  57.360001   \n",
      "2008-01-08 00:00:00+00:00  1207.5  ...  184.148422  1160.0  58.439999   \n",
      "\n",
      "Price                               Volume                                  \\\n",
      "Ticker                    NDA-FI.HE  BG.VI    CABK.MC  DANSKE.CO    FRO.OL   \n",
      "Date                                                                         \n",
      "2008-01-02 00:00:00+00:00     11.36    NaN  3370267.0   239259.0  131921.0   \n",
      "2008-01-03 00:00:00+00:00     11.18    NaN  2046484.0   427514.0  145772.0   \n",
      "2008-01-04 00:00:00+00:00     11.20    NaN  3184218.0   396353.0  244393.0   \n",
      "2008-01-07 00:00:00+00:00     11.00    NaN  4010529.0   446996.0  248477.0   \n",
      "2008-01-08 00:00:00+00:00     11.11    NaN  7756402.0  2476565.0  260464.0   \n",
      "\n",
      "Price                                             \n",
      "Ticker                            MCD  NDA-FI.HE  \n",
      "Date                                              \n",
      "2008-01-02 00:00:00+00:00   7858300.0   550381.0  \n",
      "2008-01-03 00:00:00+00:00   6514700.0   748733.0  \n",
      "2008-01-04 00:00:00+00:00   9687500.0  2332216.0  \n",
      "2008-01-07 00:00:00+00:00  10784500.0  2407069.0  \n",
      "2008-01-08 00:00:00+00:00  10080800.0   451652.0  \n",
      "\n",
      "[5 rows x 36 columns]\n"
     ]
    }
   ],
   "source": [
    "import yfinance as yf\n",
    "import pandas as pd\n",
    "\n",
    "# List of ticker symbols\n",
    "tickers = ['FRO.OL', 'NDA-FI.HE', 'BG.VI', 'CABK.MC', 'DANSKE.CO', 'MCD']\n",
    "\n",
    "# Download historical data for the specified tickers\n",
    "data = yf.download(tickers, start='2008-01-01', end='2024-09-10')\n",
    "\n",
    "# Display the first few rows of the data\n",
    "print(data.head())\n",
    "\n"
   ]
  },
  {
   "cell_type": "code",
   "execution_count": 2,
   "metadata": {},
   "outputs": [
    {
     "name": "stdout",
     "output_type": "stream",
     "text": [
      "Collecting yfinance\n",
      "  Downloading yfinance-0.2.43-py2.py3-none-any.whl.metadata (11 kB)\n",
      "Requirement already satisfied: pandas>=1.3.0 in /home/codespace/.local/lib/python3.12/site-packages (from yfinance) (2.2.2)\n",
      "Requirement already satisfied: numpy>=1.16.5 in /usr/local/python/3.12.1/lib/python3.12/site-packages (from yfinance) (1.26.4)\n",
      "Requirement already satisfied: requests>=2.31 in /home/codespace/.local/lib/python3.12/site-packages (from yfinance) (2.32.3)\n",
      "Collecting multitasking>=0.0.7 (from yfinance)\n",
      "  Downloading multitasking-0.0.11-py3-none-any.whl.metadata (5.5 kB)\n",
      "Collecting lxml>=4.9.1 (from yfinance)\n",
      "  Downloading lxml-5.3.0-cp312-cp312-manylinux_2_28_x86_64.whl.metadata (3.8 kB)\n",
      "Requirement already satisfied: platformdirs>=2.0.0 in /home/codespace/.local/lib/python3.12/site-packages (from yfinance) (4.2.2)\n",
      "Requirement already satisfied: pytz>=2022.5 in /home/codespace/.local/lib/python3.12/site-packages (from yfinance) (2024.1)\n",
      "Collecting frozendict>=2.3.4 (from yfinance)\n",
      "  Downloading frozendict-2.4.4-py312-none-any.whl.metadata (23 kB)\n",
      "Collecting peewee>=3.16.2 (from yfinance)\n",
      "  Downloading peewee-3.17.6.tar.gz (3.0 MB)\n",
      "\u001b[2K     \u001b[90m━━━━━━━━━━━━━━━━━━━━━━━━━━━━━━━━━━━━━━━━\u001b[0m \u001b[32m3.0/3.0 MB\u001b[0m \u001b[31m35.9 MB/s\u001b[0m eta \u001b[36m0:00:00\u001b[0m\n",
      "\u001b[?25h  Installing build dependencies ... \u001b[?25ldone\n",
      "\u001b[?25h  Getting requirements to build wheel ... \u001b[?25ldone\n",
      "\u001b[?25h  Preparing metadata (pyproject.toml) ... \u001b[?25ldone\n",
      "\u001b[?25hRequirement already satisfied: beautifulsoup4>=4.11.1 in /home/codespace/.local/lib/python3.12/site-packages (from yfinance) (4.12.3)\n",
      "Collecting html5lib>=1.1 (from yfinance)\n",
      "  Downloading html5lib-1.1-py2.py3-none-any.whl.metadata (16 kB)\n",
      "Requirement already satisfied: soupsieve>1.2 in /home/codespace/.local/lib/python3.12/site-packages (from beautifulsoup4>=4.11.1->yfinance) (2.6)\n",
      "Requirement already satisfied: six>=1.9 in /home/codespace/.local/lib/python3.12/site-packages (from html5lib>=1.1->yfinance) (1.16.0)\n",
      "Requirement already satisfied: webencodings in /home/codespace/.local/lib/python3.12/site-packages (from html5lib>=1.1->yfinance) (0.5.1)\n",
      "Requirement already satisfied: python-dateutil>=2.8.2 in /home/codespace/.local/lib/python3.12/site-packages (from pandas>=1.3.0->yfinance) (2.9.0.post0)\n",
      "Requirement already satisfied: tzdata>=2022.7 in /home/codespace/.local/lib/python3.12/site-packages (from pandas>=1.3.0->yfinance) (2024.1)\n",
      "Requirement already satisfied: charset-normalizer<4,>=2 in /home/codespace/.local/lib/python3.12/site-packages (from requests>=2.31->yfinance) (3.3.2)\n",
      "Requirement already satisfied: idna<4,>=2.5 in /home/codespace/.local/lib/python3.12/site-packages (from requests>=2.31->yfinance) (3.7)\n",
      "Requirement already satisfied: urllib3<3,>=1.21.1 in /home/codespace/.local/lib/python3.12/site-packages (from requests>=2.31->yfinance) (2.2.2)\n",
      "Requirement already satisfied: certifi>=2017.4.17 in /home/codespace/.local/lib/python3.12/site-packages (from requests>=2.31->yfinance) (2024.7.4)\n",
      "Downloading yfinance-0.2.43-py2.py3-none-any.whl (84 kB)\n",
      "Downloading frozendict-2.4.4-py312-none-any.whl (16 kB)\n",
      "Downloading html5lib-1.1-py2.py3-none-any.whl (112 kB)\n",
      "Downloading lxml-5.3.0-cp312-cp312-manylinux_2_28_x86_64.whl (4.9 MB)\n",
      "\u001b[2K   \u001b[90m━━━━━━━━━━━━━━━━━━━━━━━━━━━━━━━━━━━━━━━━\u001b[0m \u001b[32m4.9/4.9 MB\u001b[0m \u001b[31m59.7 MB/s\u001b[0m eta \u001b[36m0:00:00\u001b[0m\n",
      "\u001b[?25hDownloading multitasking-0.0.11-py3-none-any.whl (8.5 kB)\n",
      "Building wheels for collected packages: peewee\n",
      "  Building wheel for peewee (pyproject.toml) ... \u001b[?25ldone\n",
      "\u001b[?25h  Created wheel for peewee: filename=peewee-3.17.6-py3-none-any.whl size=138891 sha256=7268ab58d7e33080c6514d98a0a74081eedae6ec00d12d55f1d521a4e699374c\n",
      "  Stored in directory: /home/codespace/.cache/pip/wheels/a6/5e/0f/8319805c4115320e0d3e8fb5799b114a2e4c4a3d6c7e523b06\n",
      "Successfully built peewee\n",
      "Installing collected packages: peewee, multitasking, lxml, html5lib, frozendict, yfinance\n",
      "Successfully installed frozendict-2.4.4 html5lib-1.1 lxml-5.3.0 multitasking-0.0.11 peewee-3.17.6 yfinance-0.2.43\n"
     ]
    }
   ],
   "source": [
    "!pip install yfinance"
   ]
  }
 ],
 "metadata": {
  "kernelspec": {
   "display_name": "Python 3",
   "language": "python",
   "name": "python3"
  },
  "language_info": {
   "codemirror_mode": {
    "name": "ipython",
    "version": 3
   },
   "file_extension": ".py",
   "mimetype": "text/x-python",
   "name": "python",
   "nbconvert_exporter": "python",
   "pygments_lexer": "ipython3",
   "version": "3.12.1"
  }
 },
 "nbformat": 4,
 "nbformat_minor": 2
}
