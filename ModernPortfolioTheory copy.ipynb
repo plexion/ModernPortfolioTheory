{
 "cells": [
  {
   "cell_type": "code",
   "execution_count": 13,
   "metadata": {},
   "outputs": [
    {
     "name": "stdout",
     "output_type": "stream",
     "text": [
      "OrderedDict({'GOOG': 0.08369, 'AAPL': 0.09537, 'FB': 0.11076, 'BABA': 0.067, 'AMZN': 0.10739, 'GE': 0.02716, 'AMD': 0.0, 'WMT': 0.03077, 'BAC': 0.0, 'GM': 0.0, 'T': 0.02196, 'UAA': 0.01522, 'SHLD': 0.0, 'XOM': 0.0432, 'RRC': 0.0, 'BBY': 0.06553, 'MA': 0.1515, 'PFE': 0.08498, 'JPM': 0.0251, 'SBUX': 0.07038})\n",
      "Expected annual return: 26.5%\n",
      "Annual volatility: 21.7%\n",
      "Sharpe Ratio: 1.13\n"
     ]
    },
    {
     "name": "stderr",
     "output_type": "stream",
     "text": [
      "/home/codespace/.python/current/lib/python3.12/site-packages/pypfopt/efficient_frontier/efficient_frontier.py:259: UserWarning: max_sharpe transforms the optimization problem so additional objectives may not work as expected.\n",
      "  warnings.warn(\n"
     ]
    },
    {
     "data": {
      "text/plain": [
       "(0.2650387590869301, 0.21662532560561654, 1.1311639504839912)"
      ]
     },
     "execution_count": 13,
     "metadata": {},
     "output_type": "execute_result"
    }
   ],
   "source": [
    "import pandas as pd\n",
    "from pypfopt import EfficientFrontier\n",
    "from pypfopt import risk_models\n",
    "from pypfopt import expected_returns\n",
    "from pypfopt import objective_functions\n",
    "from pypfopt import BlackLittermanModel\n",
    "\n",
    "# Read in price data\n",
    "df = pd.read_csv(\"stock_prices.csv\", parse_dates=True, index_col=\"date\")\n",
    "\n",
    "# Calculate expected returns and sample covariance\n",
    "mu = expected_returns.mean_historical_return(df)\n",
    "S = risk_models.sample_cov(df)\n",
    "\n",
    "# Optimize for maximal Sharpe ratio\n",
    "ef = EfficientFrontier(mu, S) #Add constraints: ef = EfficientFrontier(mu, S, weight_bounds=(0, 0.1)) #Max 10% on each weight.\n",
    "ef.add_objective(objective_functions.L2_reg, gamma=1) #Reduce zero-weights by adding penalty on small weights with a L2-regularization term\n",
    "raw_weights = ef.max_sharpe()\n",
    "cleaned_weights = ef.clean_weights()\n",
    "ef.save_weights_to_file(\"weights.csv\")  # saves to file\n",
    "print(cleaned_weights)\n",
    "ef.portfolio_performance(verbose=True)"
   ]
  },
  {
   "cell_type": "code",
   "execution_count": 11,
   "metadata": {},
   "outputs": [
    {
     "name": "stdout",
     "output_type": "stream",
     "text": [
      "Discrete allocation: {'MA': 20, 'FB': 12, 'PFE': 54, 'BABA': 4, 'AAPL': 4, 'GOOG': 1, 'BBY': 2, 'SBUX': 1}\n",
      "Funds remaining: $11.89\n"
     ]
    }
   ],
   "source": [
    "from pypfopt.discrete_allocation import DiscreteAllocation, get_latest_prices\n",
    "\n",
    "\n",
    "latest_prices = get_latest_prices(df)\n",
    "\n",
    "da = DiscreteAllocation(cleaned_weights, latest_prices, total_portfolio_value=10000)\n",
    "allocation, leftover = da.greedy_portfolio()\n",
    "print(\"Discrete allocation:\", allocation)\n",
    "print(\"Funds remaining: ${:.2f}\".format(leftover))"
   ]
  },
  {
   "cell_type": "markdown",
   "metadata": {},
   "source": [
    "### Black-Litterman allocation"
   ]
  },
  {
   "cell_type": "code",
   "execution_count": 14,
   "metadata": {},
   "outputs": [
    {
     "data": {
      "text/plain": [
       "OrderedDict([('GOOG', 0.0),\n",
       "             ('AAPL', 0.2516700243034513),\n",
       "             ('FB', 0.0061410740896274),\n",
       "             ('BABA', 0.0504178900290811),\n",
       "             ('AMZN', 0.0),\n",
       "             ('GE', 0.0),\n",
       "             ('AMD', 0.0),\n",
       "             ('WMT', 0.0),\n",
       "             ('BAC', 0.0),\n",
       "             ('GM', 0.0),\n",
       "             ('T', 0.6703436046652544),\n",
       "             ('UAA', 0.0),\n",
       "             ('SHLD', 0.0),\n",
       "             ('XOM', 0.0214274069125859),\n",
       "             ('RRC', 0.0),\n",
       "             ('BBY', 0.0),\n",
       "             ('MA', 0.0),\n",
       "             ('PFE', 0.0),\n",
       "             ('JPM', 0.0),\n",
       "             ('SBUX', 0.0)])"
      ]
     },
     "execution_count": 14,
     "metadata": {},
     "output_type": "execute_result"
    }
   ],
   "source": [
    "S = risk_models.sample_cov(df)\n",
    "viewdict = {\"AAPL\": 0.20, \"BBY\": -0.30, \"BAC\": 0, \"SBUX\": -0.2, \"T\": 0.131321}\n",
    "bl = BlackLittermanModel(S, pi=\"equal\", absolute_views=viewdict, omega=\"default\")\n",
    "rets = bl.bl_returns()\n",
    "\n",
    "ef = EfficientFrontier(rets, S)\n",
    "ef.max_sharpe()"
   ]
  },
  {
   "cell_type": "code",
   "execution_count": null,
   "metadata": {},
   "outputs": [],
   "source": [
    "from forex_python.converter import CurrencyRates\n",
    "import pandas as pd\n",
    "\n",
    "# Initialize the CurrencyRates object\n",
    "c = CurrencyRates()\n",
    "\n",
    "# Example dataframe with dates and prices in EUR\n",
    "df = pd.DataFrame({\n",
    "    'date': ['2023-01-01', '2023-01-02'],\n",
    "    'price_eur': [100, 105]\n",
    "})\n",
    "\n",
    "# Convert prices to USD\n",
    "df['price_usd'] = df.apply(lambda row: row['price_eur'] * c.get_rate('EUR', 'USD', row['date']), axis=1)\n",
    "print(df)\n"
   ]
  }
 ],
 "metadata": {
  "kernelspec": {
   "display_name": "Python 3",
   "language": "python",
   "name": "python3"
  },
  "language_info": {
   "codemirror_mode": {
    "name": "ipython",
    "version": 3
   },
   "file_extension": ".py",
   "mimetype": "text/x-python",
   "name": "python",
   "nbconvert_exporter": "python",
   "pygments_lexer": "ipython3",
   "version": "3.12.1"
  }
 },
 "nbformat": 4,
 "nbformat_minor": 2
}
