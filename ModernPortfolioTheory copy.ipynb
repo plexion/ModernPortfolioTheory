{
 "cells": [
  {
   "cell_type": "code",
   "execution_count": null,
   "metadata": {},
   "outputs": [],
   "source": [
    "!pip install PyPortfolioOpt\n",
    "!pip install yfinance"
   ]
  },
  {
   "cell_type": "code",
   "execution_count": 13,
   "metadata": {},
   "outputs": [
    {
     "name": "stdout",
     "output_type": "stream",
     "text": [
      "OrderedDict({'GOOG': 0.08369, 'AAPL': 0.09537, 'FB': 0.11076, 'BABA': 0.067, 'AMZN': 0.10739, 'GE': 0.02716, 'AMD': 0.0, 'WMT': 0.03077, 'BAC': 0.0, 'GM': 0.0, 'T': 0.02196, 'UAA': 0.01522, 'SHLD': 0.0, 'XOM': 0.0432, 'RRC': 0.0, 'BBY': 0.06553, 'MA': 0.1515, 'PFE': 0.08498, 'JPM': 0.0251, 'SBUX': 0.07038})\n",
      "Expected annual return: 26.5%\n",
      "Annual volatility: 21.7%\n",
      "Sharpe Ratio: 1.13\n"
     ]
    },
    {
     "name": "stderr",
     "output_type": "stream",
     "text": [
      "/home/codespace/.python/current/lib/python3.12/site-packages/pypfopt/efficient_frontier/efficient_frontier.py:259: UserWarning: max_sharpe transforms the optimization problem so additional objectives may not work as expected.\n",
      "  warnings.warn(\n"
     ]
    },
    {
     "data": {
      "text/plain": [
       "(0.2650387590869301, 0.21662532560561654, 1.1311639504839912)"
      ]
     },
     "execution_count": 13,
     "metadata": {},
     "output_type": "execute_result"
    }
   ],
   "source": [
    "import pandas as pd\n",
    "import yfinance as yf\n",
    "from pypfopt import EfficientFrontier\n",
    "from pypfopt import risk_models\n",
    "from pypfopt import expected_returns\n",
    "from pypfopt import objective_functions\n",
    "from pypfopt import BlackLittermanModel\n",
    "\n",
    "# Read in price data\n",
    "df = pd.read_csv(\"stock_prices.csv\", parse_dates=True, index_col=\"date\")\n",
    "\n",
    "# Calculate expected returns and sample covariance\n",
    "mu = expected_returns.mean_historical_return(df)\n",
    "S = risk_models.sample_cov(df)\n",
    "\n",
    "# Optimize for maximal Sharpe ratio\n",
    "ef = EfficientFrontier(mu, S) #Add constraints: ef = EfficientFrontier(mu, S, weight_bounds=(0, 0.1)) #Max 10% on each weight.\n",
    "ef.add_objective(objective_functions.L2_reg, gamma=1) #Reduce zero-weights by adding penalty on small weights with a L2-regularization term\n",
    "raw_weights = ef.max_sharpe()\n",
    "cleaned_weights = ef.clean_weights()\n",
    "ef.save_weights_to_file(\"weights.csv\")  # saves to file\n",
    "print(cleaned_weights)\n",
    "ef.portfolio_performance(verbose=True)"
   ]
  },
  {
   "cell_type": "code",
   "execution_count": 11,
   "metadata": {},
   "outputs": [
    {
     "name": "stdout",
     "output_type": "stream",
     "text": [
      "Discrete allocation: {'MA': 20, 'FB': 12, 'PFE': 54, 'BABA': 4, 'AAPL': 4, 'GOOG': 1, 'BBY': 2, 'SBUX': 1}\n",
      "Funds remaining: $11.89\n"
     ]
    }
   ],
   "source": [
    "from pypfopt.discrete_allocation import DiscreteAllocation, get_latest_prices\n",
    "\n",
    "\n",
    "latest_prices = get_latest_prices(df)\n",
    "\n",
    "da = DiscreteAllocation(cleaned_weights, latest_prices, total_portfolio_value=10000)\n",
    "allocation, leftover = da.greedy_portfolio()\n",
    "print(\"Discrete allocation:\", allocation)\n",
    "print(\"Funds remaining: ${:.2f}\".format(leftover))"
   ]
  },
  {
   "cell_type": "markdown",
   "metadata": {},
   "source": [
    "### Black-Litterman allocation"
   ]
  },
  {
   "cell_type": "code",
   "execution_count": 14,
   "metadata": {},
   "outputs": [
    {
     "data": {
      "text/plain": [
       "OrderedDict([('GOOG', 0.0),\n",
       "             ('AAPL', 0.2516700243034513),\n",
       "             ('FB', 0.0061410740896274),\n",
       "             ('BABA', 0.0504178900290811),\n",
       "             ('AMZN', 0.0),\n",
       "             ('GE', 0.0),\n",
       "             ('AMD', 0.0),\n",
       "             ('WMT', 0.0),\n",
       "             ('BAC', 0.0),\n",
       "             ('GM', 0.0),\n",
       "             ('T', 0.6703436046652544),\n",
       "             ('UAA', 0.0),\n",
       "             ('SHLD', 0.0),\n",
       "             ('XOM', 0.0214274069125859),\n",
       "             ('RRC', 0.0),\n",
       "             ('BBY', 0.0),\n",
       "             ('MA', 0.0),\n",
       "             ('PFE', 0.0),\n",
       "             ('JPM', 0.0),\n",
       "             ('SBUX', 0.0)])"
      ]
     },
     "execution_count": 14,
     "metadata": {},
     "output_type": "execute_result"
    }
   ],
   "source": [
    "S = risk_models.sample_cov(df)\n",
    "viewdict = {\"AAPL\": 0.20, \"BBY\": -0.30, \"BAC\": 0, \"SBUX\": -0.2, \"T\": 0.131321}\n",
    "bl = BlackLittermanModel(S, pi=\"equal\", absolute_views=viewdict, omega=\"default\")\n",
    "rets = bl.bl_returns()\n",
    "\n",
    "ef = EfficientFrontier(rets, S)\n",
    "ef.max_sharpe()"
   ]
  },
  {
   "cell_type": "code",
   "execution_count": null,
   "metadata": {},
   "outputs": [],
   "source": [
    "from forex_python.converter import CurrencyRates\n",
    "\n",
    "# Initialize the CurrencyRates object\n",
    "c = CurrencyRates()\n",
    "\n",
    "# Example dataframe with dates and prices in EUR\n",
    "df = pd.DataFrame({\n",
    "    'date': ['2023-01-01', '2023-01-02'],\n",
    "    'price_eur': [100, 105]\n",
    "})\n",
    "\n",
    "# Convert prices to USD\n",
    "df['price_usd'] = df.apply(lambda row: row['price_eur'] * c.get_rate('EUR', 'USD', row['date']), axis=1)\n",
    "print(df)\n"
   ]
  },
  {
   "cell_type": "markdown",
   "metadata": {},
   "source": [
    "\n",
    "- Frontline (FRO.OL): NOK (listed on the Oslo Stock Exchange)\n",
    "- Nordea Bank Abp (NDA-FI.HE): EUR (listed on the Helsinki Stock Exchange)\n",
    "- BAWAG Group AG (BG.VI): EUR (listed on the Vienna Stock Exchange)\n",
    "- CaixaBank (CABK.MC): EUR (listed on the Madrid Stock Exchange)\n",
    "- Danske Bank (DANSKE.CO): DKK (listed on the Copenhagen Stock Exchange)\n",
    "- McDonald’s (MCD): USD (listed on the NYSE)\n",
    "\n"
   ]
  },
  {
   "cell_type": "code",
   "execution_count": 30,
   "metadata": {},
   "outputs": [
    {
     "name": "stderr",
     "output_type": "stream",
     "text": [
      "[*********************100%***********************]  6 of 6 completed\n"
     ]
    },
    {
     "data": {
      "text/html": [
       "<div>\n",
       "<style scoped>\n",
       "    .dataframe tbody tr th:only-of-type {\n",
       "        vertical-align: middle;\n",
       "    }\n",
       "\n",
       "    .dataframe tbody tr th {\n",
       "        vertical-align: top;\n",
       "    }\n",
       "\n",
       "    .dataframe thead tr th {\n",
       "        text-align: left;\n",
       "    }\n",
       "\n",
       "    .dataframe thead tr:last-of-type th {\n",
       "        text-align: right;\n",
       "    }\n",
       "</style>\n",
       "<table border=\"1\" class=\"dataframe\">\n",
       "  <thead>\n",
       "    <tr>\n",
       "      <th>Price</th>\n",
       "      <th colspan=\"6\" halign=\"left\">Adj Close</th>\n",
       "      <th colspan=\"4\" halign=\"left\">Close</th>\n",
       "      <th>...</th>\n",
       "      <th colspan=\"4\" halign=\"left\">Open</th>\n",
       "      <th colspan=\"6\" halign=\"left\">Volume</th>\n",
       "    </tr>\n",
       "    <tr>\n",
       "      <th>Ticker</th>\n",
       "      <th>BG.VI</th>\n",
       "      <th>CABK.MC</th>\n",
       "      <th>DANSKE.CO</th>\n",
       "      <th>FRO.OL</th>\n",
       "      <th>MCD</th>\n",
       "      <th>NDA-FI.HE</th>\n",
       "      <th>BG.VI</th>\n",
       "      <th>CABK.MC</th>\n",
       "      <th>DANSKE.CO</th>\n",
       "      <th>FRO.OL</th>\n",
       "      <th>...</th>\n",
       "      <th>DANSKE.CO</th>\n",
       "      <th>FRO.OL</th>\n",
       "      <th>MCD</th>\n",
       "      <th>NDA-FI.HE</th>\n",
       "      <th>BG.VI</th>\n",
       "      <th>CABK.MC</th>\n",
       "      <th>DANSKE.CO</th>\n",
       "      <th>FRO.OL</th>\n",
       "      <th>MCD</th>\n",
       "      <th>NDA-FI.HE</th>\n",
       "    </tr>\n",
       "    <tr>\n",
       "      <th>Date</th>\n",
       "      <th></th>\n",
       "      <th></th>\n",
       "      <th></th>\n",
       "      <th></th>\n",
       "      <th></th>\n",
       "      <th></th>\n",
       "      <th></th>\n",
       "      <th></th>\n",
       "      <th></th>\n",
       "      <th></th>\n",
       "      <th></th>\n",
       "      <th></th>\n",
       "      <th></th>\n",
       "      <th></th>\n",
       "      <th></th>\n",
       "      <th></th>\n",
       "      <th></th>\n",
       "      <th></th>\n",
       "      <th></th>\n",
       "      <th></th>\n",
       "      <th></th>\n",
       "    </tr>\n",
       "  </thead>\n",
       "  <tbody>\n",
       "    <tr>\n",
       "      <th>2008-01-02 00:00:00+00:00</th>\n",
       "      <td>NaN</td>\n",
       "      <td>2.082304</td>\n",
       "      <td>122.023247</td>\n",
       "      <td>1174.019653</td>\n",
       "      <td>36.280499</td>\n",
       "      <td>4.380478</td>\n",
       "      <td>NaN</td>\n",
       "      <td>5.20</td>\n",
       "      <td>187.387222</td>\n",
       "      <td>1317.5</td>\n",
       "      <td>...</td>\n",
       "      <td>184.842453</td>\n",
       "      <td>1302.5</td>\n",
       "      <td>59.480000</td>\n",
       "      <td>11.36</td>\n",
       "      <td>NaN</td>\n",
       "      <td>3370267.0</td>\n",
       "      <td>239259.0</td>\n",
       "      <td>131921.0</td>\n",
       "      <td>7858300.0</td>\n",
       "      <td>550381.0</td>\n",
       "    </tr>\n",
       "    <tr>\n",
       "      <th>2008-01-03 00:00:00+00:00</th>\n",
       "      <td>NaN</td>\n",
       "      <td>2.042259</td>\n",
       "      <td>120.215500</td>\n",
       "      <td>1180.702759</td>\n",
       "      <td>36.174332</td>\n",
       "      <td>4.392222</td>\n",
       "      <td>NaN</td>\n",
       "      <td>5.10</td>\n",
       "      <td>184.611115</td>\n",
       "      <td>1325.0</td>\n",
       "      <td>...</td>\n",
       "      <td>186.461853</td>\n",
       "      <td>1315.0</td>\n",
       "      <td>58.400002</td>\n",
       "      <td>11.18</td>\n",
       "      <td>NaN</td>\n",
       "      <td>2046484.0</td>\n",
       "      <td>427514.0</td>\n",
       "      <td>145772.0</td>\n",
       "      <td>6514700.0</td>\n",
       "      <td>748733.0</td>\n",
       "    </tr>\n",
       "    <tr>\n",
       "      <th>2008-01-04 00:00:00+00:00</th>\n",
       "      <td>NaN</td>\n",
       "      <td>2.042259</td>\n",
       "      <td>117.955803</td>\n",
       "      <td>1122.781738</td>\n",
       "      <td>35.624802</td>\n",
       "      <td>4.306100</td>\n",
       "      <td>NaN</td>\n",
       "      <td>5.10</td>\n",
       "      <td>181.140976</td>\n",
       "      <td>1260.0</td>\n",
       "      <td>...</td>\n",
       "      <td>184.611115</td>\n",
       "      <td>1317.5</td>\n",
       "      <td>57.330002</td>\n",
       "      <td>11.20</td>\n",
       "      <td>NaN</td>\n",
       "      <td>3184218.0</td>\n",
       "      <td>396353.0</td>\n",
       "      <td>244393.0</td>\n",
       "      <td>9687500.0</td>\n",
       "      <td>2332216.0</td>\n",
       "    </tr>\n",
       "    <tr>\n",
       "      <th>2008-01-07 00:00:00+00:00</th>\n",
       "      <td>NaN</td>\n",
       "      <td>1.982193</td>\n",
       "      <td>119.010330</td>\n",
       "      <td>1060.405151</td>\n",
       "      <td>36.236778</td>\n",
       "      <td>4.321759</td>\n",
       "      <td>NaN</td>\n",
       "      <td>4.95</td>\n",
       "      <td>182.760376</td>\n",
       "      <td>1190.0</td>\n",
       "      <td>...</td>\n",
       "      <td>180.909637</td>\n",
       "      <td>1247.5</td>\n",
       "      <td>57.360001</td>\n",
       "      <td>11.00</td>\n",
       "      <td>NaN</td>\n",
       "      <td>4010529.0</td>\n",
       "      <td>446996.0</td>\n",
       "      <td>248477.0</td>\n",
       "      <td>10784500.0</td>\n",
       "      <td>2407069.0</td>\n",
       "    </tr>\n",
       "    <tr>\n",
       "      <th>2008-01-08 00:00:00+00:00</th>\n",
       "      <td>NaN</td>\n",
       "      <td>2.002215</td>\n",
       "      <td>120.215500</td>\n",
       "      <td>1075.999390</td>\n",
       "      <td>35.643555</td>\n",
       "      <td>4.321759</td>\n",
       "      <td>NaN</td>\n",
       "      <td>5.00</td>\n",
       "      <td>184.611115</td>\n",
       "      <td>1207.5</td>\n",
       "      <td>...</td>\n",
       "      <td>184.148422</td>\n",
       "      <td>1160.0</td>\n",
       "      <td>58.439999</td>\n",
       "      <td>11.11</td>\n",
       "      <td>NaN</td>\n",
       "      <td>7756402.0</td>\n",
       "      <td>2476565.0</td>\n",
       "      <td>260464.0</td>\n",
       "      <td>10080800.0</td>\n",
       "      <td>451652.0</td>\n",
       "    </tr>\n",
       "  </tbody>\n",
       "</table>\n",
       "<p>5 rows × 36 columns</p>\n",
       "</div>"
      ],
      "text/plain": [
       "Price                     Adj Close                                     \\\n",
       "Ticker                        BG.VI   CABK.MC   DANSKE.CO       FRO.OL   \n",
       "Date                                                                     \n",
       "2008-01-02 00:00:00+00:00       NaN  2.082304  122.023247  1174.019653   \n",
       "2008-01-03 00:00:00+00:00       NaN  2.042259  120.215500  1180.702759   \n",
       "2008-01-04 00:00:00+00:00       NaN  2.042259  117.955803  1122.781738   \n",
       "2008-01-07 00:00:00+00:00       NaN  1.982193  119.010330  1060.405151   \n",
       "2008-01-08 00:00:00+00:00       NaN  2.002215  120.215500  1075.999390   \n",
       "\n",
       "Price                                          Close                      \\\n",
       "Ticker                           MCD NDA-FI.HE BG.VI CABK.MC   DANSKE.CO   \n",
       "Date                                                                       \n",
       "2008-01-02 00:00:00+00:00  36.280499  4.380478   NaN    5.20  187.387222   \n",
       "2008-01-03 00:00:00+00:00  36.174332  4.392222   NaN    5.10  184.611115   \n",
       "2008-01-04 00:00:00+00:00  35.624802  4.306100   NaN    5.10  181.140976   \n",
       "2008-01-07 00:00:00+00:00  36.236778  4.321759   NaN    4.95  182.760376   \n",
       "2008-01-08 00:00:00+00:00  35.643555  4.321759   NaN    5.00  184.611115   \n",
       "\n",
       "Price                              ...        Open                     \\\n",
       "Ticker                     FRO.OL  ...   DANSKE.CO  FRO.OL        MCD   \n",
       "Date                               ...                                  \n",
       "2008-01-02 00:00:00+00:00  1317.5  ...  184.842453  1302.5  59.480000   \n",
       "2008-01-03 00:00:00+00:00  1325.0  ...  186.461853  1315.0  58.400002   \n",
       "2008-01-04 00:00:00+00:00  1260.0  ...  184.611115  1317.5  57.330002   \n",
       "2008-01-07 00:00:00+00:00  1190.0  ...  180.909637  1247.5  57.360001   \n",
       "2008-01-08 00:00:00+00:00  1207.5  ...  184.148422  1160.0  58.439999   \n",
       "\n",
       "Price                               Volume                                  \\\n",
       "Ticker                    NDA-FI.HE  BG.VI    CABK.MC  DANSKE.CO    FRO.OL   \n",
       "Date                                                                         \n",
       "2008-01-02 00:00:00+00:00     11.36    NaN  3370267.0   239259.0  131921.0   \n",
       "2008-01-03 00:00:00+00:00     11.18    NaN  2046484.0   427514.0  145772.0   \n",
       "2008-01-04 00:00:00+00:00     11.20    NaN  3184218.0   396353.0  244393.0   \n",
       "2008-01-07 00:00:00+00:00     11.00    NaN  4010529.0   446996.0  248477.0   \n",
       "2008-01-08 00:00:00+00:00     11.11    NaN  7756402.0  2476565.0  260464.0   \n",
       "\n",
       "Price                                             \n",
       "Ticker                            MCD  NDA-FI.HE  \n",
       "Date                                              \n",
       "2008-01-02 00:00:00+00:00   7858300.0   550381.0  \n",
       "2008-01-03 00:00:00+00:00   6514700.0   748733.0  \n",
       "2008-01-04 00:00:00+00:00   9687500.0  2332216.0  \n",
       "2008-01-07 00:00:00+00:00  10784500.0  2407069.0  \n",
       "2008-01-08 00:00:00+00:00  10080800.0   451652.0  \n",
       "\n",
       "[5 rows x 36 columns]"
      ]
     },
     "metadata": {},
     "output_type": "display_data"
    }
   ],
   "source": [
    "\n",
    "\n",
    "# List of ticker symbols\n",
    "tickers = ['FRO.OL', 'NDA-FI.HE', 'BG.VI', 'CABK.MC', 'DANSKE.CO', 'MCD']\n",
    "\n",
    "# Download historical data for the specified tickers\n",
    "stock_data = yf.download(tickers, start='2008-01-01', end='2024-09-10')\n",
    "\n",
    "# Display the first few rows of the data\n",
    "display(stock_data.head())\n",
    "\n",
    "\n",
    "\n",
    "\n"
   ]
  },
  {
   "cell_type": "code",
   "execution_count": 38,
   "metadata": {},
   "outputs": [
    {
     "data": {
      "text/html": [
       "<div>\n",
       "<style scoped>\n",
       "    .dataframe tbody tr th:only-of-type {\n",
       "        vertical-align: middle;\n",
       "    }\n",
       "\n",
       "    .dataframe tbody tr th {\n",
       "        vertical-align: top;\n",
       "    }\n",
       "\n",
       "    .dataframe thead th {\n",
       "        text-align: right;\n",
       "    }\n",
       "</style>\n",
       "<table border=\"1\" class=\"dataframe\">\n",
       "  <thead>\n",
       "    <tr style=\"text-align: right;\">\n",
       "      <th></th>\n",
       "      <th>BG.VI</th>\n",
       "      <th>CABK.MC</th>\n",
       "      <th>DANSKE.CO</th>\n",
       "      <th>FRO.OL</th>\n",
       "      <th>MCD</th>\n",
       "      <th>NDA-FI.HE</th>\n",
       "    </tr>\n",
       "    <tr>\n",
       "      <th>Date</th>\n",
       "      <th></th>\n",
       "      <th></th>\n",
       "      <th></th>\n",
       "      <th></th>\n",
       "      <th></th>\n",
       "      <th></th>\n",
       "    </tr>\n",
       "  </thead>\n",
       "  <tbody>\n",
       "    <tr>\n",
       "      <th>2008-01-02 00:00:00+00:00</th>\n",
       "      <td>NaN</td>\n",
       "      <td>2.082304</td>\n",
       "      <td>122.023247</td>\n",
       "      <td>1174.019653</td>\n",
       "      <td>36.280499</td>\n",
       "      <td>4.380478</td>\n",
       "    </tr>\n",
       "    <tr>\n",
       "      <th>2008-01-03 00:00:00+00:00</th>\n",
       "      <td>NaN</td>\n",
       "      <td>2.042259</td>\n",
       "      <td>120.215500</td>\n",
       "      <td>1180.702759</td>\n",
       "      <td>36.174332</td>\n",
       "      <td>4.392222</td>\n",
       "    </tr>\n",
       "    <tr>\n",
       "      <th>2008-01-04 00:00:00+00:00</th>\n",
       "      <td>NaN</td>\n",
       "      <td>2.042259</td>\n",
       "      <td>117.955803</td>\n",
       "      <td>1122.781738</td>\n",
       "      <td>35.624802</td>\n",
       "      <td>4.306100</td>\n",
       "    </tr>\n",
       "    <tr>\n",
       "      <th>2008-01-07 00:00:00+00:00</th>\n",
       "      <td>NaN</td>\n",
       "      <td>1.982193</td>\n",
       "      <td>119.010330</td>\n",
       "      <td>1060.405151</td>\n",
       "      <td>36.236778</td>\n",
       "      <td>4.321759</td>\n",
       "    </tr>\n",
       "    <tr>\n",
       "      <th>2008-01-08 00:00:00+00:00</th>\n",
       "      <td>NaN</td>\n",
       "      <td>2.002215</td>\n",
       "      <td>120.215500</td>\n",
       "      <td>1075.999390</td>\n",
       "      <td>35.643555</td>\n",
       "      <td>4.321759</td>\n",
       "    </tr>\n",
       "  </tbody>\n",
       "</table>\n",
       "</div>"
      ],
      "text/plain": [
       "                           BG.VI   CABK.MC   DANSKE.CO       FRO.OL  \\\n",
       "Date                                                                  \n",
       "2008-01-02 00:00:00+00:00    NaN  2.082304  122.023247  1174.019653   \n",
       "2008-01-03 00:00:00+00:00    NaN  2.042259  120.215500  1180.702759   \n",
       "2008-01-04 00:00:00+00:00    NaN  2.042259  117.955803  1122.781738   \n",
       "2008-01-07 00:00:00+00:00    NaN  1.982193  119.010330  1060.405151   \n",
       "2008-01-08 00:00:00+00:00    NaN  2.002215  120.215500  1075.999390   \n",
       "\n",
       "                                 MCD  NDA-FI.HE  \n",
       "Date                                             \n",
       "2008-01-02 00:00:00+00:00  36.280499   4.380478  \n",
       "2008-01-03 00:00:00+00:00  36.174332   4.392222  \n",
       "2008-01-04 00:00:00+00:00  35.624802   4.306100  \n",
       "2008-01-07 00:00:00+00:00  36.236778   4.321759  \n",
       "2008-01-08 00:00:00+00:00  35.643555   4.321759  "
      ]
     },
     "metadata": {},
     "output_type": "display_data"
    }
   ],
   "source": [
    "# Extract the adjusted close prices\n",
    "stock_prices = stock_data['Adj Close'].reset_index()\n",
    "stock_prices.columns.name = None\n",
    "stock_prices.set_index('Date', drop = True, inplace = True)\n",
    "display(stock_prices.head())"
   ]
  },
  {
   "cell_type": "code",
   "execution_count": 6,
   "metadata": {},
   "outputs": [
    {
     "name": "stdout",
     "output_type": "stream",
     "text": [
      "Requirement already satisfied: currency_converter in /usr/local/python/3.12.1/lib/python3.12/site-packages (0.5.5)\n",
      "Requirement already satisfied: setuptools in /home/codespace/.local/lib/python3.12/site-packages (from currency_converter) (73.0.1)\n"
     ]
    }
   ],
   "source": [
    "!pip install --upgrade currency_converter"
   ]
  },
  {
   "cell_type": "code",
   "execution_count": 7,
   "metadata": {},
   "outputs": [
    {
     "ename": "ModuleNotFoundError",
     "evalue": "No module named 'currency_converter'",
     "output_type": "error",
     "traceback": [
      "\u001b[0;31m---------------------------------------------------------------------------\u001b[0m",
      "\u001b[0;31mModuleNotFoundError\u001b[0m                       Traceback (most recent call last)",
      "Cell \u001b[0;32mIn[7], line 1\u001b[0m\n\u001b[0;32m----> 1\u001b[0m \u001b[38;5;28;01mfrom\u001b[39;00m \u001b[38;5;21;01mcurrency_converter\u001b[39;00m \u001b[38;5;28;01mimport\u001b[39;00m CurrencyConverter\n\u001b[1;32m      3\u001b[0m stock_prices_usd \u001b[38;5;241m=\u001b[39m stock_prices\u001b[38;5;241m.\u001b[39mcopy()\n\u001b[1;32m      5\u001b[0m \u001b[38;5;66;03m# Initialize the CurrencyRates object\u001b[39;00m\n",
      "\u001b[0;31mModuleNotFoundError\u001b[0m: No module named 'currency_converter'"
     ]
    }
   ],
   "source": [
    "from currency_converter import CurrencyConverter\n",
    "\n",
    "stock_prices_usd = stock_prices.copy()\n",
    "\n",
    "# Initialize the CurrencyRates object\n",
    "c = CurrencyConverter()\n",
    "\n",
    "\n",
    "# Convert prices to USD\n",
    "stock_prices_usd['BG.VI_USD'] = stock_prices_usd.apply(lambda row: c.convert(row['BG.VI'], 'EUR', 'USD', date=row['Date']), axis=1)\n",
    "print(stock_prices_usd)"
   ]
  },
  {
   "cell_type": "code",
   "execution_count": 1,
   "metadata": {},
   "outputs": [
    {
     "name": "stdout",
     "output_type": "stream",
     "text": [
      "Name: currency.converter\n",
      "Version: 0.5.5\n",
      "Summary: Currency Converter\n",
      "Home-page: http://pypi.python.org/pypi/currency.converter\n",
      "Author: Taito Horiuchi\n",
      "Author-email: taito.horiuchi@abita.fi\n",
      "License: GPL\n",
      "Location: /usr/local/python/3.12.1/lib/python3.12/site-packages\n",
      "Requires: setuptools\n",
      "Required-by: \n"
     ]
    }
   ],
   "source": [
    "!pip show currency_converter"
   ]
  },
  {
   "cell_type": "code",
   "execution_count": 2,
   "metadata": {},
   "outputs": [
    {
     "name": "stdout",
     "output_type": "stream",
     "text": [
      "/home/codespace/.python/current/bin/python\n"
     ]
    }
   ],
   "source": [
    "import sys\n",
    "print(sys.executable)"
   ]
  }
 ],
 "metadata": {
  "kernelspec": {
   "display_name": "Python 3",
   "language": "python",
   "name": "python3"
  },
  "language_info": {
   "codemirror_mode": {
    "name": "ipython",
    "version": 3
   },
   "file_extension": ".py",
   "mimetype": "text/x-python",
   "name": "python",
   "nbconvert_exporter": "python",
   "pygments_lexer": "ipython3",
   "version": "3.12.1"
  }
 },
 "nbformat": 4,
 "nbformat_minor": 2
}
