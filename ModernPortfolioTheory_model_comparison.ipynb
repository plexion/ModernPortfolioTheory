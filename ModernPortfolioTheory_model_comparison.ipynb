{
 "cells": [
  {
   "cell_type": "code",
   "execution_count": null,
   "metadata": {},
   "outputs": [],
   "source": [
    "# Install the necessary libraries\n",
    "!pip install PyPortfolioOpt #Library to perform portfolio optimization\n",
    "!pip install yfinance #Library to download financial data\n",
    "!pip install forex-python #Library to download forex data"
   ]
  },
  {
   "cell_type": "markdown",
   "metadata": {},
   "source": [
    "## Comparison of Modern Portfolio Theory returns and risk models on given set of stocks\n",
    "The idea is to compare the different portfolios that are created as a result of different combinations of returns and risk models.\n",
    "There are many models available for both returns and risk.\n",
    "\n",
    "For returns, I will look at the following:\n",
    " - Mean historical returns\n",
    " - Exponentially weighted mean of historical returns\n",
    " - Returns based on CAPM\n",
    "\n",
    "For risk models, I will look at the following:\n",
    " - Sample covariance\n",
    " - Ledoit-Wolf with 3 different shrinkage targets\n",
    "    - Constant variance\n",
    "    - Single factor\n",
    "    - Constant correlation\n",
    "\n",
    "This results in 3x4 = 12 different portfolios to be compared.\n",
    "\n",
    "\n",
    "\n",
    "\n",
    "\n",
    "\n"
   ]
  },
  {
   "cell_type": "markdown",
   "metadata": {},
   "source": [
    "### Step 1: Pick a portfolio to balance\n",
    "As a starting point I have chosen the following stocks inspired by my friend's portfolio:\n",
    "\n",
    "- Frontline (FRO.OL): NOK (listed on the Oslo Stock Exchange)\n",
    "- Nordea Bank Abp (NDA-FI.HE): EUR (listed on the Helsinki Stock Exchange)\n",
    "- BAWAG Group AG (BG.VI): EUR (listed on the Vienna Stock Exchange)\n",
    "- CaixaBank (CABK.MC): EUR (listed on the Madrid Stock Exchange)\n",
    "- Danske Bank (DANSKE.CO): DKK (listed on the Copenhagen Stock Exchange)\n",
    "- McDonald’s (MCD): USD (listed on the NYSE)\n"
   ]
  },
  {
   "cell_type": "markdown",
   "metadata": {},
   "source": [
    "### Step 2: Read in price data"
   ]
  },
  {
   "cell_type": "code",
   "execution_count": 1,
   "metadata": {},
   "outputs": [],
   "source": [
    "import pandas as pd\n",
    "import yfinance as yf"
   ]
  },
  {
   "cell_type": "code",
   "execution_count": 2,
   "metadata": {},
   "outputs": [
    {
     "name": "stderr",
     "output_type": "stream",
     "text": [
      "[*********************100%***********************]  6 of 6 completed\n"
     ]
    },
    {
     "data": {
      "text/html": [
       "<div>\n",
       "<style scoped>\n",
       "    .dataframe tbody tr th:only-of-type {\n",
       "        vertical-align: middle;\n",
       "    }\n",
       "\n",
       "    .dataframe tbody tr th {\n",
       "        vertical-align: top;\n",
       "    }\n",
       "\n",
       "    .dataframe thead th {\n",
       "        text-align: right;\n",
       "    }\n",
       "</style>\n",
       "<table border=\"1\" class=\"dataframe\">\n",
       "  <thead>\n",
       "    <tr style=\"text-align: right;\">\n",
       "      <th></th>\n",
       "      <th>BG.VI</th>\n",
       "      <th>CABK.MC</th>\n",
       "      <th>DANSKE.CO</th>\n",
       "      <th>FRO.OL</th>\n",
       "      <th>MCD</th>\n",
       "      <th>NDA-FI.HE</th>\n",
       "    </tr>\n",
       "    <tr>\n",
       "      <th>Date</th>\n",
       "      <th></th>\n",
       "      <th></th>\n",
       "      <th></th>\n",
       "      <th></th>\n",
       "      <th></th>\n",
       "      <th></th>\n",
       "    </tr>\n",
       "  </thead>\n",
       "  <tbody>\n",
       "    <tr>\n",
       "      <th>2024-09-03 00:00:00+00:00</th>\n",
       "      <td>67.599998</td>\n",
       "      <td>5.310</td>\n",
       "      <td>208.399994</td>\n",
       "      <td>243.567825</td>\n",
       "      <td>285.519989</td>\n",
       "      <td>10.615</td>\n",
       "    </tr>\n",
       "    <tr>\n",
       "      <th>2024-09-04 00:00:00+00:00</th>\n",
       "      <td>68.500000</td>\n",
       "      <td>5.288</td>\n",
       "      <td>210.399994</td>\n",
       "      <td>241.273773</td>\n",
       "      <td>288.029999</td>\n",
       "      <td>10.515</td>\n",
       "    </tr>\n",
       "    <tr>\n",
       "      <th>2024-09-05 00:00:00+00:00</th>\n",
       "      <td>70.900002</td>\n",
       "      <td>5.374</td>\n",
       "      <td>209.699997</td>\n",
       "      <td>238.082062</td>\n",
       "      <td>287.970001</td>\n",
       "      <td>10.685</td>\n",
       "    </tr>\n",
       "    <tr>\n",
       "      <th>2024-09-06 00:00:00+00:00</th>\n",
       "      <td>69.099998</td>\n",
       "      <td>5.318</td>\n",
       "      <td>207.699997</td>\n",
       "      <td>241.572998</td>\n",
       "      <td>289.510010</td>\n",
       "      <td>10.435</td>\n",
       "    </tr>\n",
       "    <tr>\n",
       "      <th>2024-09-09 00:00:00+00:00</th>\n",
       "      <td>69.500000</td>\n",
       "      <td>5.428</td>\n",
       "      <td>206.600006</td>\n",
       "      <td>236.785431</td>\n",
       "      <td>291.290009</td>\n",
       "      <td>10.585</td>\n",
       "    </tr>\n",
       "  </tbody>\n",
       "</table>\n",
       "</div>"
      ],
      "text/plain": [
       "                               BG.VI  CABK.MC   DANSKE.CO      FRO.OL  \\\n",
       "Date                                                                    \n",
       "2024-09-03 00:00:00+00:00  67.599998    5.310  208.399994  243.567825   \n",
       "2024-09-04 00:00:00+00:00  68.500000    5.288  210.399994  241.273773   \n",
       "2024-09-05 00:00:00+00:00  70.900002    5.374  209.699997  238.082062   \n",
       "2024-09-06 00:00:00+00:00  69.099998    5.318  207.699997  241.572998   \n",
       "2024-09-09 00:00:00+00:00  69.500000    5.428  206.600006  236.785431   \n",
       "\n",
       "                                  MCD  NDA-FI.HE  \n",
       "Date                                              \n",
       "2024-09-03 00:00:00+00:00  285.519989     10.615  \n",
       "2024-09-04 00:00:00+00:00  288.029999     10.515  \n",
       "2024-09-05 00:00:00+00:00  287.970001     10.685  \n",
       "2024-09-06 00:00:00+00:00  289.510010     10.435  \n",
       "2024-09-09 00:00:00+00:00  291.290009     10.585  "
      ]
     },
     "metadata": {},
     "output_type": "display_data"
    }
   ],
   "source": [
    "# Ticker symbols for the chosen stocks\n",
    "tickers = ['FRO.OL', 'NDA-FI.HE', 'BG.VI', 'CABK.MC', 'DANSKE.CO', 'MCD']\n",
    "\n",
    "# Download historical data for the specified tickers from Yahoo Finance\n",
    "stock_data = yf.download(tickers, start='2008-01-01', end='2024-09-10')\n",
    "\n",
    "# Extract the adjusted close prices, which we are interested in for the analysis\n",
    "stock_prices = stock_data['Adj Close'].reset_index()\n",
    "stock_prices.columns.name = None\n",
    "stock_prices.set_index('Date', drop = True, inplace = True)\n",
    "display(stock_prices.tail()) #Display the 5 latest prices for the chosen time period"
   ]
  },
  {
   "cell_type": "markdown",
   "metadata": {},
   "source": [
    "### Step 3: Calculate or provide expected returns\n",
    "\n",
    "A seasoned trader might have their own, custom calculations for expected returns.\n",
    "I am not seasoned nor seer, so I will compare the available methods from PyPortfolioOpt.\n",
    "\n",
    "The methods are:\n",
    "1. The traditional expected returns based on the mean of historical returns\n",
    "2. Exponentially weighting the mean of historical returns to emphasize recent results\n",
    "3. Expected returns based on Capital Asset Pricing Model (I have used the 10 year US treasury bond giving a risk free rate of 3.65% as a benchmark)\n",
    "\n",
    "All of these can use either geometric or arithmetic mean. I have chosen to look at geometric mean as it accounts for compounding."
   ]
  },
  {
   "cell_type": "code",
   "execution_count": 28,
   "metadata": {},
   "outputs": [
    {
     "name": "stderr",
     "output_type": "stream",
     "text": [
      "/usr/local/python/3.12.1/lib/python3.12/site-packages/pypfopt/expected_returns.py:56: FutureWarning: The default fill_method='pad' in DataFrame.pct_change is deprecated and will be removed in a future version. Either fill in any non-leading NA values prior to calling pct_change or specify 'fill_method=None' to not fill NA values.\n",
      "  returns = prices.pct_change().dropna(how=\"all\")\n",
      "/usr/local/python/3.12.1/lib/python3.12/site-packages/pypfopt/expected_returns.py:56: FutureWarning: The default fill_method='pad' in DataFrame.pct_change is deprecated and will be removed in a future version. Either fill in any non-leading NA values prior to calling pct_change or specify 'fill_method=None' to not fill NA values.\n",
      "  returns = prices.pct_change().dropna(how=\"all\")\n",
      "/usr/local/python/3.12.1/lib/python3.12/site-packages/pypfopt/expected_returns.py:56: FutureWarning: The default fill_method='pad' in DataFrame.pct_change is deprecated and will be removed in a future version. Either fill in any non-leading NA values prior to calling pct_change or specify 'fill_method=None' to not fill NA values.\n",
      "  returns = prices.pct_change().dropna(how=\"all\")\n"
     ]
    }
   ],
   "source": [
    "from pypfopt import EfficientFrontier \n",
    "from pypfopt import risk_models\n",
    "from pypfopt import expected_returns\n",
    "from pypfopt import objective_functions\n",
    "from pypfopt import BlackLittermanModel\n",
    "\n",
    "# Calculate expected returns and sample covariance\n",
    "mu_mean = expected_returns.mean_historical_return(stock_prices) # Annualised mean historical return\n",
    "mu_ema = expected_returns.ema_historical_return(stock_prices, span=1500) # Annualised return using exponentially weighted mean\n",
    "mu_capm = expected_returns.capm_return(stock_prices, risk_free_rate=0.0365) # Annualized returns calculated based on CAPM with risk free rate of 3.65%"
   ]
  },
  {
   "cell_type": "markdown",
   "metadata": {},
   "source": [
    "Plotting a heatmap of annualized returns gives me a better idea of what the expected returns are for each method, so we can decide which method to proceed with.\n",
    "\n",
    "Looking at the heatmap below it is clear that the market has been very kind for the last 1500 days (the span that the exponentially weighted mean is based on). I am nothing if not an optimist, so we will proceed using this expected return."
   ]
  },
  {
   "cell_type": "code",
   "execution_count": 29,
   "metadata": {},
   "outputs": [
    {
     "data": {
      "image/png": "[encoded data removed]",
      "text/plain": [
       "<Figure size 1000x600 with 2 Axes>"
      ]
     },
     "metadata": {},
     "output_type": "display_data"
    }
   ],
   "source": [
    "import seaborn as sns\n",
    "import matplotlib.pyplot as plt\n",
    "\n",
    "# Combine Series into a DataFrame\n",
    "data = pd.DataFrame({\n",
    "    'Geometric mean': mu_mean,\n",
    "    'Exponentially weighted geometric mean': mu_ema,\n",
    "    'CAPM': mu_capm\n",
    "})\n",
    "\n",
    "# Plotting the heatmap\n",
    "plt.figure(figsize=(10, 6))\n",
    "sns.heatmap(data, annot=True, cmap='coolwarm', linewidths=.5)\n",
    "plt.title('Heatmap of Annualized Returns')\n",
    "plt.show()\n"
   ]
  },
  {
   "cell_type": "markdown",
   "metadata": {},
   "source": [
    "### Step 4: Calculate portfolio variance\n",
    "\n",
    "Picking the right risk model for calculating portfolio variance is a science in itself.\n",
    "The text book option would be to use the sample covariance as the risk model.\n",
    "However, "
   ]
  },
  {
   "cell_type": "code",
   "execution_count": 30,
   "metadata": {},
   "outputs": [
    {
     "name": "stderr",
     "output_type": "stream",
     "text": [
      "/usr/local/python/3.12.1/lib/python3.12/site-packages/pypfopt/expected_returns.py:56: FutureWarning: The default fill_method='pad' in DataFrame.pct_change is deprecated and will be removed in a future version. Either fill in any non-leading NA values prior to calling pct_change or specify 'fill_method=None' to not fill NA values.\n",
      "  returns = prices.pct_change().dropna(how=\"all\")\n",
      "/usr/local/python/3.12.1/lib/python3.12/site-packages/pypfopt/expected_returns.py:56: FutureWarning: The default fill_method='pad' in DataFrame.pct_change is deprecated and will be removed in a future version. Either fill in any non-leading NA values prior to calling pct_change or specify 'fill_method=None' to not fill NA values.\n",
      "  returns = prices.pct_change().dropna(how=\"all\")\n",
      "/usr/local/python/3.12.1/lib/python3.12/site-packages/pypfopt/expected_returns.py:56: FutureWarning: The default fill_method='pad' in DataFrame.pct_change is deprecated and will be removed in a future version. Either fill in any non-leading NA values prior to calling pct_change or specify 'fill_method=None' to not fill NA values.\n",
      "  returns = prices.pct_change().dropna(how=\"all\")\n",
      "/usr/local/python/3.12.1/lib/python3.12/site-packages/pypfopt/expected_returns.py:56: FutureWarning: The default fill_method='pad' in DataFrame.pct_change is deprecated and will be removed in a future version. Either fill in any non-leading NA values prior to calling pct_change or specify 'fill_method=None' to not fill NA values.\n",
      "  returns = prices.pct_change().dropna(how=\"all\")\n"
     ]
    }
   ],
   "source": [
    "# Set up different risk models\n",
    "S_sample_cov = risk_models.sample_cov(stock_prices) # Sample covariance\n",
    "S_LW_cv = risk_models.CovarianceShrinkage(stock_prices).ledoit_wolf(shrinkage_target='constant_variance') # Ledoit-Wolf with constant variance as shrinkage target\n",
    "S_LW_sf = risk_models.CovarianceShrinkage(stock_prices).ledoit_wolf(shrinkage_target='single_factor') # Ledoit-Wolf with single factor(identity matrix) as shrinkage target\n",
    "S_LW_cc = risk_models.CovarianceShrinkage(stock_prices).ledoit_wolf(shrinkage_target='constant_correlation') # Ledoit-Wolf with constant correlation as shrinkage target"
   ]
  },
  {
   "cell_type": "markdown",
   "metadata": {},
   "source": [
    "### Step 5: Optimize for maximal Sharpe ratio using different risk models\n",
    "\n",
    "There are several different optimizations one can chose in Modern Portfolio Theory.\n",
    "1. Minimize volatility a.k.a. playing it as safe as possible\n",
    "2. Maximize return for a given risk a.k.a. you know your limits\n",
    "3. Minimize risk for a given target return a.k.a. you know what you need to pay your mortgage\n",
    "4. Maximize Sharpe ratio a.k.a. as much return as possible with no unnecessary risk\n",
    "\n",
    "I know my friend is gamling man, which is why I'll be looking to maximize the Sharpe ratio.\n",
    "\n",
    "Here is an overview of \n",
    "\n",
    "- Portfolio 1 is exponentially weighted mean of historical returns X sample covariance\n",
    "- Portfolio 2 is exponentially weighted mean of historical returns X Ledoit-Wolf constant variance\n",
    "- Portfolio 3 is exponentially weighted mean of historical returns X Ledoit-Wolf single factor\n",
    "- Portfolio 4 is exponentially weighted mean of historical returns X Ledoit-Wolf constant correlation"
   ]
  },
  {
   "cell_type": "markdown",
   "metadata": {},
   "source": [
    "#### ef5"
   ]
  },
  {
   "cell_type": "code",
   "execution_count": 39,
   "metadata": {},
   "outputs": [
    {
     "name": "stdout",
     "output_type": "stream",
     "text": [
      "OrderedDict({'BG.VI': 0.34857, 'CABK.MC': 0.22648, 'DANSKE.CO': 0.03575, 'FRO.OL': 0.17154, 'MCD': 0.21766, 'NDA-FI.HE': 0.0})\n",
      "Expected annual return: 28.7%\n",
      "Annual volatility: 23.3%\n",
      "Sharpe Ratio: 1.07\n"
     ]
    },
    {
     "name": "stderr",
     "output_type": "stream",
     "text": [
      "/usr/local/python/3.12.1/lib/python3.12/site-packages/pypfopt/efficient_frontier/efficient_frontier.py:441: UserWarning: The risk_free_rate provided to portfolio_performance is different to the one used by max_sharpe. Using the previous value.\n",
      "  warnings.warn(\n"
     ]
    },
    {
     "data": {
      "text/plain": [
       "(0.28679648583549017, 0.2329678474396496, 1.0743821028793665)"
      ]
     },
     "execution_count": 39,
     "metadata": {},
     "output_type": "execute_result"
    }
   ],
   "source": [
    "# Optimize for maximal Sharpe ratio\n",
    "ef5 = EfficientFrontier(mu_ema, S_sample_cov) #Add constraints: ef = EfficientFrontier(mu, S, weight_bounds=(0, 0.1)) #Max 10% on each weight.\n",
    "# ef5.add_objective(objective_functions.L2_reg, gamma=1) #Reduce zero-weights by adding penalty on small weights with a L2-regularization term\n",
    "ef5_raw_weights = ef5.max_sharpe(risk_free_rate=0.0365)\n",
    "ef5_cleaned_weights = ef5.clean_weights()\n",
    "# ef5.save_weights_to_file(\"weights_apmc_LedoitWolf.csv\")  # saves to file\n",
    "print(ef5_cleaned_weights)\n",
    "ef5.portfolio_performance(verbose=True)"
   ]
  },
  {
   "cell_type": "markdown",
   "metadata": {},
   "source": [
    "#### ef6"
   ]
  },
  {
   "cell_type": "code",
   "execution_count": 40,
   "metadata": {},
   "outputs": [
    {
     "name": "stdout",
     "output_type": "stream",
     "text": [
      "OrderedDict({'BG.VI': 0.68225, 'CABK.MC': 0.10383, 'DANSKE.CO': 0.00595, 'FRO.OL': 0.10348, 'MCD': 0.10449, 'NDA-FI.HE': 0.0})\n",
      "Expected annual return: 30.3%\n",
      "Annual volatility: 18.4%\n",
      "Sharpe Ratio: 1.45\n"
     ]
    },
    {
     "data": {
      "text/plain": [
       "(0.3030858068975653, 0.1841626512518814, 1.4475563046328697)"
      ]
     },
     "execution_count": 40,
     "metadata": {},
     "output_type": "execute_result"
    }
   ],
   "source": [
    "# Optimize for maximal Sharpe ratio\n",
    "ef6 = EfficientFrontier(mu_ema, S_LW_cv) #Add constraints: ef = EfficientFrontier(mu, S, weight_bounds=(0, 0.1)) #Max 10% on each weight.\n",
    "# ef6.add_objective(objective_functions.L2_reg, gamma=1) #Reduce zero-weights by adding penalty on small weights with a L2-regularization term\n",
    "ef6_raw_weights = ef6.max_sharpe(risk_free_rate=0.0365)\n",
    "ef6_cleaned_weights = ef6.clean_weights()\n",
    "# ef6.save_weights_to_file(\"weights_apmc_LedoitWolf.csv\")  # saves to file\n",
    "print(ef6_cleaned_weights)\n",
    "ef6.portfolio_performance(verbose=True)"
   ]
  },
  {
   "cell_type": "markdown",
   "metadata": {},
   "source": [
    "#### ef9"
   ]
  },
  {
   "cell_type": "code",
   "execution_count": 41,
   "metadata": {},
   "outputs": [
    {
     "name": "stdout",
     "output_type": "stream",
     "text": [
      "OrderedDict({'BG.VI': 0.68921, 'CABK.MC': 0.10098, 'DANSKE.CO': 0.0038, 'FRO.OL': 0.10242, 'MCD': 0.1036, 'NDA-FI.HE': 0.0})\n",
      "Expected annual return: 30.3%\n",
      "Annual volatility: 18.4%\n",
      "Sharpe Ratio: 1.45\n"
     ]
    },
    {
     "data": {
      "text/plain": [
       "(0.3033308625493298, 0.18377579631525548, 1.4519369138882616)"
      ]
     },
     "execution_count": 41,
     "metadata": {},
     "output_type": "execute_result"
    }
   ],
   "source": [
    "# Optimize for maximal Sharpe ratio\n",
    "ef9 = EfficientFrontier(mu_ema, S_LW_sf) #Add constraints: ef = EfficientFrontier(mu, S, weight_bounds=(0, 0.1)) #Max 10% on each weight.\n",
    "# ef9.add_objective(objective_functions.L2_reg, gamma=1) #Reduce zero-weights by adding penalty on small weights with a L2-regularization term\n",
    "ef9_raw_weights = ef9.max_sharpe(risk_free_rate=0.0365)\n",
    "ef9_cleaned_weights = ef9.clean_weights()\n",
    "# ef9.save_weights_to_file(\"weights_apmc_LedoitWolf.csv\")  # saves to file\n",
    "print(ef9_cleaned_weights)\n",
    "ef9.portfolio_performance(verbose=True)"
   ]
  },
  {
   "cell_type": "markdown",
   "metadata": {},
   "source": [
    "#### ef10"
   ]
  },
  {
   "cell_type": "code",
   "execution_count": 42,
   "metadata": {},
   "outputs": [
    {
     "name": "stdout",
     "output_type": "stream",
     "text": [
      "OrderedDict({'BG.VI': 0.34874, 'CABK.MC': 0.22831, 'DANSKE.CO': 0.03667, 'FRO.OL': 0.17072, 'MCD': 0.21556, 'NDA-FI.HE': 0.0})\n",
      "Expected annual return: 28.7%\n",
      "Annual volatility: 23.3%\n",
      "Sharpe Ratio: 1.07\n"
     ]
    },
    {
     "data": {
      "text/plain": [
       "(0.28699373864109046, 0.23333821018472314, 1.0735221567131508)"
      ]
     },
     "execution_count": 42,
     "metadata": {},
     "output_type": "execute_result"
    }
   ],
   "source": [
    "# Optimize for maximal Sharpe ratio\n",
    "ef10 = EfficientFrontier(mu_ema, S_LW_cc) #Add constraints: ef = EfficientFrontier(mu, S, weight_bounds=(0, 0.1)) #Max 10% on each weight.\n",
    "# ef10.add_objective(objective_functions.L2_reg, gamma=1) #Reduce zero-weights by adding penalty on small weights with a L2-regularization term\n",
    "ef10_raw_weights = ef10.max_sharpe(risk_free_rate=0.0365)\n",
    "ef10_cleaned_weights = ef10.clean_weights()\n",
    "# ef10.save_weights_to_file(\"weights_apmc_LedoitWolf.csv\")  # saves to file\n",
    "print(ef10_cleaned_weights)\n",
    "ef10.portfolio_performance(verbose=True)"
   ]
  },
  {
   "cell_type": "markdown",
   "metadata": {},
   "source": [
    "### Step 5: Compare the different portfolios"
   ]
  },
  {
   "cell_type": "code",
   "execution_count": 43,
   "metadata": {},
   "outputs": [
    {
     "data": {
      "image/png": "[encoded data removed]",
      "text/plain": [
       "<Figure size 1000x700 with 1 Axes>"
      ]
     },
     "metadata": {},
     "output_type": "display_data"
    }
   ],
   "source": [
    "import matplotlib.pyplot as plt\n",
    "from collections import OrderedDict\n",
    "\n",
    "portfolios = {\n",
    "    'Portfolio 5': ef5_cleaned_weights,\n",
    "    'Portfolio 6': ef6_cleaned_weights,\n",
    "    'Portfolio 9': ef9_cleaned_weights,\n",
    "    'Portfolio 10': ef10_cleaned_weights\n",
    "}\n",
    "\n",
    "# Stock labels\n",
    "stocks = list(ef5_cleaned_weights.keys())\n",
    "\n",
    "# Create a figure and axis\n",
    "fig, ax = plt.subplots(figsize=(10, 7))\n",
    "\n",
    "# Plot each portfolio as a bar chart\n",
    "for i, (portfolio_name, values) in enumerate(portfolios.items()):\n",
    "    ax.bar([x + i*0.1 for x in range(len(stocks))], values.values(), width=0.1, label=portfolio_name)\n",
    "\n",
    "# Set the x-axis labels\n",
    "ax.set_xticks([x + 0.25 for x in range(len(stocks))])\n",
    "ax.set_xticklabels(stocks)\n",
    "\n",
    "# Set the labels and title\n",
    "ax.set_xlabel('Stocks')\n",
    "ax.set_ylabel('Investment Proportion')\n",
    "ax.set_title('Comparison of Different Portfolios')\n",
    "\n",
    "# Add a legend\n",
    "ax.legend()\n",
    "\n",
    "# Show the plot\n",
    "plt.show()\n"
   ]
  }
 ],
 "metadata": {
  "kernelspec": {
   "display_name": "Python 3 (ipykernel)",
   "language": "python",
   "name": "python3"
  },
  "language_info": {
   "codemirror_mode": {
    "name": "ipython",
    "version": 3
   },
   "file_extension": ".py",
   "mimetype": "text/x-python",
   "name": "python",
   "nbconvert_exporter": "python",
   "pygments_lexer": "ipython3",
   "version": "3.12.1"
  }
 },
 "nbformat": 4,
 "nbformat_minor": 2
}
