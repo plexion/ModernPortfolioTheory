{
 "cells": [
  {
   "cell_type": "code",
   "execution_count": 2,
   "metadata": {},
   "outputs": [
    {
     "name": "stdout",
     "output_type": "stream",
     "text": [
      "Requirement already satisfied: PyPortfolioOpt in /usr/local/python/3.12.1/lib/python3.12/site-packages (1.5.5)\n",
      "Requirement already satisfied: cvxpy<2.0.0,>=1.1.19 in /usr/local/python/3.12.1/lib/python3.12/site-packages (from PyPortfolioOpt) (1.5.3)\n",
      "Requirement already satisfied: numpy<2.0.0,>=1.22.4 in /usr/local/python/3.12.1/lib/python3.12/site-packages (from PyPortfolioOpt) (1.26.4)\n",
      "Requirement already satisfied: pandas>=0.19 in /home/codespace/.local/lib/python3.12/site-packages (from PyPortfolioOpt) (2.2.2)\n",
      "Requirement already satisfied: scipy<2.0,>=1.3 in /home/codespace/.local/lib/python3.12/site-packages (from PyPortfolioOpt) (1.14.0)\n",
      "Requirement already satisfied: osqp>=0.6.2 in /usr/local/python/3.12.1/lib/python3.12/site-packages (from cvxpy<2.0.0,>=1.1.19->PyPortfolioOpt) (0.6.7.post1)\n",
      "Requirement already satisfied: ecos>=2 in /usr/local/python/3.12.1/lib/python3.12/site-packages (from cvxpy<2.0.0,>=1.1.19->PyPortfolioOpt) (2.0.14)\n",
      "Requirement already satisfied: clarabel>=0.5.0 in /usr/local/python/3.12.1/lib/python3.12/site-packages (from cvxpy<2.0.0,>=1.1.19->PyPortfolioOpt) (0.9.0)\n",
      "Requirement already satisfied: scs>=3.2.4.post1 in /usr/local/python/3.12.1/lib/python3.12/site-packages (from cvxpy<2.0.0,>=1.1.19->PyPortfolioOpt) (3.2.7)\n",
      "Requirement already satisfied: python-dateutil>=2.8.2 in /home/codespace/.local/lib/python3.12/site-packages (from pandas>=0.19->PyPortfolioOpt) (2.9.0.post0)\n",
      "Requirement already satisfied: pytz>=2020.1 in /home/codespace/.local/lib/python3.12/site-packages (from pandas>=0.19->PyPortfolioOpt) (2024.1)\n",
      "Requirement already satisfied: tzdata>=2022.7 in /home/codespace/.local/lib/python3.12/site-packages (from pandas>=0.19->PyPortfolioOpt) (2024.1)\n",
      "Requirement already satisfied: qdldl in /usr/local/python/3.12.1/lib/python3.12/site-packages (from osqp>=0.6.2->cvxpy<2.0.0,>=1.1.19->PyPortfolioOpt) (0.1.7.post4)\n",
      "Requirement already satisfied: six>=1.5 in /home/codespace/.local/lib/python3.12/site-packages (from python-dateutil>=2.8.2->pandas>=0.19->PyPortfolioOpt) (1.16.0)\n",
      "Requirement already satisfied: yfinance in /usr/local/python/3.12.1/lib/python3.12/site-packages (0.2.43)\n",
      "Requirement already satisfied: pandas>=1.3.0 in /home/codespace/.local/lib/python3.12/site-packages (from yfinance) (2.2.2)\n",
      "Requirement already satisfied: numpy>=1.16.5 in /usr/local/python/3.12.1/lib/python3.12/site-packages (from yfinance) (1.26.4)\n",
      "Requirement already satisfied: requests>=2.31 in /home/codespace/.local/lib/python3.12/site-packages (from yfinance) (2.32.3)\n",
      "Requirement already satisfied: multitasking>=0.0.7 in /usr/local/python/3.12.1/lib/python3.12/site-packages (from yfinance) (0.0.11)\n",
      "Requirement already satisfied: lxml>=4.9.1 in /usr/local/python/3.12.1/lib/python3.12/site-packages (from yfinance) (5.3.0)\n",
      "Requirement already satisfied: platformdirs>=2.0.0 in /home/codespace/.local/lib/python3.12/site-packages (from yfinance) (4.2.2)\n",
      "Requirement already satisfied: pytz>=2022.5 in /home/codespace/.local/lib/python3.12/site-packages (from yfinance) (2024.1)\n",
      "Requirement already satisfied: frozendict>=2.3.4 in /usr/local/python/3.12.1/lib/python3.12/site-packages (from yfinance) (2.4.4)\n",
      "Requirement already satisfied: peewee>=3.16.2 in /usr/local/python/3.12.1/lib/python3.12/site-packages (from yfinance) (3.17.6)\n",
      "Requirement already satisfied: beautifulsoup4>=4.11.1 in /home/codespace/.local/lib/python3.12/site-packages (from yfinance) (4.12.3)\n",
      "Requirement already satisfied: html5lib>=1.1 in /usr/local/python/3.12.1/lib/python3.12/site-packages (from yfinance) (1.1)\n",
      "Requirement already satisfied: soupsieve>1.2 in /home/codespace/.local/lib/python3.12/site-packages (from beautifulsoup4>=4.11.1->yfinance) (2.6)\n",
      "Requirement already satisfied: six>=1.9 in /home/codespace/.local/lib/python3.12/site-packages (from html5lib>=1.1->yfinance) (1.16.0)\n",
      "Requirement already satisfied: webencodings in /home/codespace/.local/lib/python3.12/site-packages (from html5lib>=1.1->yfinance) (0.5.1)\n",
      "Requirement already satisfied: python-dateutil>=2.8.2 in /home/codespace/.local/lib/python3.12/site-packages (from pandas>=1.3.0->yfinance) (2.9.0.post0)\n",
      "Requirement already satisfied: tzdata>=2022.7 in /home/codespace/.local/lib/python3.12/site-packages (from pandas>=1.3.0->yfinance) (2024.1)\n",
      "Requirement already satisfied: charset-normalizer<4,>=2 in /home/codespace/.local/lib/python3.12/site-packages (from requests>=2.31->yfinance) (3.3.2)\n",
      "Requirement already satisfied: idna<4,>=2.5 in /home/codespace/.local/lib/python3.12/site-packages (from requests>=2.31->yfinance) (3.7)\n",
      "Requirement already satisfied: urllib3<3,>=1.21.1 in /home/codespace/.local/lib/python3.12/site-packages (from requests>=2.31->yfinance) (2.2.2)\n",
      "Requirement already satisfied: certifi>=2017.4.17 in /home/codespace/.local/lib/python3.12/site-packages (from requests>=2.31->yfinance) (2024.7.4)\n",
      "Requirement already satisfied: forex-python in /usr/local/python/3.12.1/lib/python3.12/site-packages (1.8)\n",
      "Requirement already satisfied: requests in /home/codespace/.local/lib/python3.12/site-packages (from forex-python) (2.32.3)\n",
      "Requirement already satisfied: simplejson in /usr/local/python/3.12.1/lib/python3.12/site-packages (from forex-python) (3.19.3)\n",
      "Requirement already satisfied: charset-normalizer<4,>=2 in /home/codespace/.local/lib/python3.12/site-packages (from requests->forex-python) (3.3.2)\n",
      "Requirement already satisfied: idna<4,>=2.5 in /home/codespace/.local/lib/python3.12/site-packages (from requests->forex-python) (3.7)\n",
      "Requirement already satisfied: urllib3<3,>=1.21.1 in /home/codespace/.local/lib/python3.12/site-packages (from requests->forex-python) (2.2.2)\n",
      "Requirement already satisfied: certifi>=2017.4.17 in /home/codespace/.local/lib/python3.12/site-packages (from requests->forex-python) (2024.7.4)\n"
     ]
    }
   ],
   "source": [
    "# Install the necessary libraries\n",
    "!pip install PyPortfolioOpt #Library to perform portfolio optimization\n",
    "!pip install yfinance #Library to download financial data\n",
    "!pip install forex-python #Library to download forex data"
   ]
  },
  {
   "cell_type": "markdown",
   "metadata": {},
   "source": [
    "## Comparison of Modern Portfolio Theory returns and risk models on given set of stocks\n",
    "The idea is to compare the different portfolios that are created as a result of different combinations of returns and risk models.\n",
    "There are many models available for both returns and risk.\n",
    "\n",
    "For returns, I will look at the following:\n",
    " - Mean historical returns\n",
    " - Exponentially weighted mean of historical returns\n",
    " - Returns based on CAPM\n",
    "\n",
    "For risk models, I will look at the following:\n",
    " - Sample covariance\n",
    " - Ledoit-Wolf with 3 different shrinkage targets\n",
    "    - Constant variance\n",
    "    - Single factor\n",
    "    - Constant correlation\n",
    "\n",
    "This results in 3x4 = 12 different portfolios to be compared.\n",
    "\n",
    "\n",
    "\n",
    "\n",
    "\n",
    "\n"
   ]
  },
  {
   "cell_type": "markdown",
   "metadata": {},
   "source": [
    "### Step 1: Pick a portfolio to balance\n",
    "As a starting point I have chosen the following stocks inspired by my friend's portfolio:\n",
    "\n",
    "- Frontline (FRO.OL): NOK (listed on the Oslo Stock Exchange)\n",
    "- Nordea Bank Abp (NDA-FI.HE): EUR (listed on the Helsinki Stock Exchange)\n",
    "- BAWAG Group AG (BG.VI): EUR (listed on the Vienna Stock Exchange)\n",
    "- CaixaBank (CABK.MC): EUR (listed on the Madrid Stock Exchange)\n",
    "- Danske Bank (DANSKE.CO): DKK (listed on the Copenhagen Stock Exchange)\n",
    "- McDonald’s (MCD): USD (listed on the NYSE)\n"
   ]
  },
  {
   "cell_type": "markdown",
   "metadata": {},
   "source": [
    "### Step 2: Read in price data"
   ]
  },
  {
   "cell_type": "code",
   "execution_count": 3,
   "metadata": {},
   "outputs": [],
   "source": [
    "import pandas as pd\n",
    "import yfinance as yf"
   ]
  },
  {
   "cell_type": "code",
   "execution_count": 4,
   "metadata": {},
   "outputs": [
    {
     "name": "stderr",
     "output_type": "stream",
     "text": [
      "[*********************100%***********************]  6 of 6 completed\n"
     ]
    },
    {
     "data": {
      "text/html": [
       "<div>\n",
       "<style scoped>\n",
       "    .dataframe tbody tr th:only-of-type {\n",
       "        vertical-align: middle;\n",
       "    }\n",
       "\n",
       "    .dataframe tbody tr th {\n",
       "        vertical-align: top;\n",
       "    }\n",
       "\n",
       "    .dataframe thead th {\n",
       "        text-align: right;\n",
       "    }\n",
       "</style>\n",
       "<table border=\"1\" class=\"dataframe\">\n",
       "  <thead>\n",
       "    <tr style=\"text-align: right;\">\n",
       "      <th></th>\n",
       "      <th>BG.VI</th>\n",
       "      <th>CABK.MC</th>\n",
       "      <th>DANSKE.CO</th>\n",
       "      <th>FRO.OL</th>\n",
       "      <th>MCD</th>\n",
       "      <th>NDA-FI.HE</th>\n",
       "    </tr>\n",
       "    <tr>\n",
       "      <th>Date</th>\n",
       "      <th></th>\n",
       "      <th></th>\n",
       "      <th></th>\n",
       "      <th></th>\n",
       "      <th></th>\n",
       "      <th></th>\n",
       "    </tr>\n",
       "  </thead>\n",
       "  <tbody>\n",
       "    <tr>\n",
       "      <th>2024-09-03 00:00:00+00:00</th>\n",
       "      <td>67.599998</td>\n",
       "      <td>5.310</td>\n",
       "      <td>208.399994</td>\n",
       "      <td>243.567825</td>\n",
       "      <td>285.519989</td>\n",
       "      <td>10.615</td>\n",
       "    </tr>\n",
       "    <tr>\n",
       "      <th>2024-09-04 00:00:00+00:00</th>\n",
       "      <td>68.500000</td>\n",
       "      <td>5.288</td>\n",
       "      <td>210.399994</td>\n",
       "      <td>241.273773</td>\n",
       "      <td>288.029999</td>\n",
       "      <td>10.515</td>\n",
       "    </tr>\n",
       "    <tr>\n",
       "      <th>2024-09-05 00:00:00+00:00</th>\n",
       "      <td>70.900002</td>\n",
       "      <td>5.374</td>\n",
       "      <td>209.699997</td>\n",
       "      <td>238.082062</td>\n",
       "      <td>287.970001</td>\n",
       "      <td>10.685</td>\n",
       "    </tr>\n",
       "    <tr>\n",
       "      <th>2024-09-06 00:00:00+00:00</th>\n",
       "      <td>69.099998</td>\n",
       "      <td>5.318</td>\n",
       "      <td>207.699997</td>\n",
       "      <td>241.572998</td>\n",
       "      <td>289.510010</td>\n",
       "      <td>10.435</td>\n",
       "    </tr>\n",
       "    <tr>\n",
       "      <th>2024-09-09 00:00:00+00:00</th>\n",
       "      <td>69.500000</td>\n",
       "      <td>5.428</td>\n",
       "      <td>206.600006</td>\n",
       "      <td>236.785431</td>\n",
       "      <td>291.290009</td>\n",
       "      <td>10.585</td>\n",
       "    </tr>\n",
       "  </tbody>\n",
       "</table>\n",
       "</div>"
      ],
      "text/plain": [
       "                               BG.VI  CABK.MC   DANSKE.CO      FRO.OL  \\\n",
       "Date                                                                    \n",
       "2024-09-03 00:00:00+00:00  67.599998    5.310  208.399994  243.567825   \n",
       "2024-09-04 00:00:00+00:00  68.500000    5.288  210.399994  241.273773   \n",
       "2024-09-05 00:00:00+00:00  70.900002    5.374  209.699997  238.082062   \n",
       "2024-09-06 00:00:00+00:00  69.099998    5.318  207.699997  241.572998   \n",
       "2024-09-09 00:00:00+00:00  69.500000    5.428  206.600006  236.785431   \n",
       "\n",
       "                                  MCD  NDA-FI.HE  \n",
       "Date                                              \n",
       "2024-09-03 00:00:00+00:00  285.519989     10.615  \n",
       "2024-09-04 00:00:00+00:00  288.029999     10.515  \n",
       "2024-09-05 00:00:00+00:00  287.970001     10.685  \n",
       "2024-09-06 00:00:00+00:00  289.510010     10.435  \n",
       "2024-09-09 00:00:00+00:00  291.290009     10.585  "
      ]
     },
     "metadata": {},
     "output_type": "display_data"
    }
   ],
   "source": [
    "# Ticker symbols for the chosen stocks\n",
    "tickers = ['FRO.OL', 'NDA-FI.HE', 'BG.VI', 'CABK.MC', 'DANSKE.CO', 'MCD']\n",
    "\n",
    "# Download historical data for the specified tickers from Yahoo Finance\n",
    "stock_data = yf.download(tickers, start='2008-01-01', end='2024-09-10')\n",
    "\n",
    "# Extract the adjusted close prices, which we are interested in for the analysis\n",
    "stock_prices = stock_data['Adj Close'].reset_index()\n",
    "stock_prices.columns.name = None\n",
    "stock_prices.set_index('Date', drop = True, inplace = True)\n",
    "display(stock_prices.tail()) #Display the 5 latest prices for the chosen time period"
   ]
  },
  {
   "cell_type": "markdown",
   "metadata": {},
   "source": [
    "### Step 3: Calculate or provide expected returns\n",
    "\n",
    "A seasoned trader might have their own, custom calculations for expected returns.\n",
    "I am not seasoned nor seer, so I will compare the available methods from PyPortfolioOpt.\n",
    "\n",
    "\"[PyPorfolioOpt](https://pypi.org/project/pyportfolioopt/) is a python package that implements financial portfolio optimization techniques...\"¹\n",
    "\n",
    "The methods available for calculating expected returns are:\n",
    "1. The traditional expected returns based on the mean of historical returns\n",
    "2. Exponentially weighting the mean of historical returns to emphasize recent results\n",
    "3. Expected returns based on Capital Asset Pricing Model (I have used the 10 year US treasury bond giving a risk free rate of 3.65% as a benchmark)\n",
    "\n",
    "All of these can use either geometric or arithmetic mean. I have chosen to look at geometric mean as it accounts for compounding."
   ]
  },
  {
   "cell_type": "code",
   "execution_count": 5,
   "metadata": {},
   "outputs": [
    {
     "name": "stderr",
     "output_type": "stream",
     "text": [
      "/usr/local/python/3.12.1/lib/python3.12/site-packages/pypfopt/expected_returns.py:56: FutureWarning: The default fill_method='pad' in DataFrame.pct_change is deprecated and will be removed in a future version. Either fill in any non-leading NA values prior to calling pct_change or specify 'fill_method=None' to not fill NA values.\n",
      "  returns = prices.pct_change().dropna(how=\"all\")\n",
      "/usr/local/python/3.12.1/lib/python3.12/site-packages/pypfopt/expected_returns.py:56: FutureWarning: The default fill_method='pad' in DataFrame.pct_change is deprecated and will be removed in a future version. Either fill in any non-leading NA values prior to calling pct_change or specify 'fill_method=None' to not fill NA values.\n",
      "  returns = prices.pct_change().dropna(how=\"all\")\n",
      "/usr/local/python/3.12.1/lib/python3.12/site-packages/pypfopt/expected_returns.py:56: FutureWarning: The default fill_method='pad' in DataFrame.pct_change is deprecated and will be removed in a future version. Either fill in any non-leading NA values prior to calling pct_change or specify 'fill_method=None' to not fill NA values.\n",
      "  returns = prices.pct_change().dropna(how=\"all\")\n"
     ]
    }
   ],
   "source": [
    "from pypfopt import EfficientFrontier \n",
    "from pypfopt import risk_models\n",
    "from pypfopt import expected_returns\n",
    "from pypfopt import objective_functions\n",
    "from pypfopt import BlackLittermanModel\n",
    "\n",
    "# Calculate expected returns and sample covariance\n",
    "mu_mean = expected_returns.mean_historical_return(stock_prices) # Annualised mean historical return\n",
    "mu_ema = expected_returns.ema_historical_return(stock_prices, span=1500) # Annualised return using exponentially weighted mean\n",
    "mu_capm = expected_returns.capm_return(stock_prices, risk_free_rate=0.0365) # Annualized returns calculated based on CAPM with risk free rate of 3.65%"
   ]
  },
  {
   "cell_type": "markdown",
   "metadata": {},
   "source": [
    "Plotting a heatmap of annualized returns gives a better idea of what the expected returns are for each method, so we can decide which method to proceed with.\n",
    "\n",
    "Looking at the heatmap below it is clear that the market has been very kind for the last 1500 days (the span that I've chosen the exponentially weighted mean to be based on). I am nothing if not an optimist, so we will proceed using this expected return."
   ]
  },
  {
   "cell_type": "code",
   "execution_count": 6,
   "metadata": {},
   "outputs": [
    {
     "data": {
      "image/png": "[encoded data removed]",
      "text/plain": [
       "<Figure size 1000x600 with 2 Axes>"
      ]
     },
     "metadata": {},
     "output_type": "display_data"
    }
   ],
   "source": [
    "import seaborn as sns\n",
    "import matplotlib.pyplot as plt\n",
    "\n",
    "# Combine Series into a DataFrame\n",
    "data = pd.DataFrame({\n",
    "    'Geometric mean': mu_mean,\n",
    "    'Exponentially weighted geometric mean': mu_ema,\n",
    "    'CAPM': mu_capm\n",
    "})\n",
    "\n",
    "# Plotting the heatmap\n",
    "plt.figure(figsize=(10, 6))\n",
    "sns.heatmap(data, annot=True, cmap='coolwarm', linewidths=.5)\n",
    "plt.title('Heatmap of Annualized Returns')\n",
    "plt.show()\n"
   ]
  },
  {
   "cell_type": "markdown",
   "metadata": {},
   "source": [
    "### Step 4: Calculate portfolio variance\n",
    "\n",
    "Picking the right risk model for calculating portfolio variance is a science in itself.\n",
    "The text book option would be to use the sample covariance as the risk model.\n",
    "However, the sample covariance matrix might have some instability. This can be handled by using a shrinkage estimator.\n",
    "In the paper [Honey, I shrunk the sample covariance matrix](https://papers.ssrn.com/sol3/papers.cfm?abstract_id=433840) by Ledoit and Wolf, they argue using a constant correlation model.² This is the shrinkage estimator I will be using."
   ]
  },
  {
   "cell_type": "code",
   "execution_count": 7,
   "metadata": {},
   "outputs": [
    {
     "name": "stderr",
     "output_type": "stream",
     "text": [
      "/usr/local/python/3.12.1/lib/python3.12/site-packages/pypfopt/expected_returns.py:56: FutureWarning: The default fill_method='pad' in DataFrame.pct_change is deprecated and will be removed in a future version. Either fill in any non-leading NA values prior to calling pct_change or specify 'fill_method=None' to not fill NA values.\n",
      "  returns = prices.pct_change().dropna(how=\"all\")\n"
     ]
    }
   ],
   "source": [
    "# Set up the Lediot-Wolf shrinkage estimator with contant correlation\n",
    "S_LW_cc = risk_models.CovarianceShrinkage(stock_prices).ledoit_wolf(shrinkage_target='constant_correlation')"
   ]
  },
  {
   "cell_type": "markdown",
   "metadata": {},
   "source": [
    "### Step 5: Optimize for maximal Sharpe ratio\n",
    "\n",
    "There are several different optimizations one can chose in Modern Portfolio Theory.\n",
    "1. Minimize volatility a.k.a. playing it as safe as possible\n",
    "2. Maximize return for a given risk a.k.a. you know your limits\n",
    "3. Minimize risk for a given target return a.k.a. you know what you need to pay your mortgage\n",
    "4. Maximize Sharpe ratio a.k.a. as much return as possible with no unnecessary risk\n",
    "\n",
    "I know my friend is gamling man, which is why I'll be looking to maximize the Sharpe ratio.\n"
   ]
  },
  {
   "cell_type": "code",
   "execution_count": 8,
   "metadata": {},
   "outputs": [
    {
     "name": "stdout",
     "output_type": "stream",
     "text": [
      "OrderedDict({'BG.VI': 0.34874, 'CABK.MC': 0.22831, 'DANSKE.CO': 0.03667, 'FRO.OL': 0.17071, 'MCD': 0.21556, 'NDA-FI.HE': 0.0})\n",
      "Expected annual return: 28.7%\n",
      "Annual volatility: 23.3%\n",
      "Sharpe Ratio: 1.07\n"
     ]
    },
    {
     "name": "stderr",
     "output_type": "stream",
     "text": [
      "/usr/local/python/3.12.1/lib/python3.12/site-packages/pypfopt/efficient_frontier/efficient_frontier.py:441: UserWarning: The risk_free_rate provided to portfolio_performance is different to the one used by max_sharpe. Using the previous value.\n",
      "  warnings.warn(\n"
     ]
    },
    {
     "data": {
      "text/plain": [
       "(0.2869936137481369, 0.2333380495099343, 1.0735223606875666)"
      ]
     },
     "execution_count": 8,
     "metadata": {},
     "output_type": "execute_result"
    }
   ],
   "source": [
    "# Optimize for maximal Sharpe ratio\n",
    "ef10 = EfficientFrontier(mu_ema, S_LW_cc) #Add constraints: ef = EfficientFrontier(mu, S, weight_bounds=(0, 0.1)) #Max 10% on each weight.\n",
    "# ef10.add_objective(objective_functions.L2_reg, gamma=1) #Reduce zero-weights by adding penalty on small weights with a L2-regularization term\n",
    "ef10_raw_weights = ef10.max_sharpe(risk_free_rate=0.0365)\n",
    "ef10_cleaned_weights = ef10.clean_weights()\n",
    "# ef10.save_weights_to_file(\"weights_apmc_LedoitWolf.csv\")  # saves to file\n",
    "print(ef10_cleaned_weights)\n",
    "ef10.portfolio_performance(verbose=True)"
   ]
  },
  {
   "cell_type": "markdown",
   "metadata": {},
   "source": [
    "### Step 5: Compare the different portfolios"
   ]
  },
  {
   "cell_type": "code",
   "execution_count": 11,
   "metadata": {},
   "outputs": [
    {
     "data": {
      "image/png": "[encoded data removed]",
      "text/plain": [
       "<Figure size 1000x700 with 1 Axes>"
      ]
     },
     "metadata": {},
     "output_type": "display_data"
    }
   ],
   "source": [
    "import matplotlib.pyplot as plt\n",
    "from collections import OrderedDict\n",
    "\n",
    "portfolios = {\n",
    "    'Portfolio 10': ef10_cleaned_weights\n",
    "}\n",
    "\n",
    "# Stock labels\n",
    "stocks = list(ef10_cleaned_weights.keys())\n",
    "\n",
    "# Create a figure and axis\n",
    "fig, ax = plt.subplots(figsize=(10, 7))\n",
    "\n",
    "# Plot each portfolio as a bar chart\n",
    "for i, (portfolio_name, values) in enumerate(portfolios.items()):\n",
    "    ax.bar([x + i*0.1 for x in range(len(stocks))], values.values(), width=0.1, label=portfolio_name)\n",
    "\n",
    "# Set the x-axis labels\n",
    "ax.set_xticks([x + 0.25 for x in range(len(stocks))])\n",
    "ax.set_xticklabels(stocks)\n",
    "\n",
    "# Set the labels and title\n",
    "ax.set_xlabel('Stocks')\n",
    "ax.set_ylabel('Investment Proportion')\n",
    "ax.set_title('Comparison of Different Portfolios')\n",
    "\n",
    "# Add a legend\n",
    "ax.legend()\n",
    "\n",
    "# Show the plot\n",
    "plt.show()\n"
   ]
  },
  {
   "cell_type": "code",
   "execution_count": 12,
   "metadata": {},
   "outputs": [
    {
     "ename": "AttributeError",
     "evalue": "'collections.OrderedDict' object has no attribute 'index'",
     "output_type": "error",
     "traceback": [
      "\u001b[0;31m---------------------------------------------------------------------------\u001b[0m",
      "\u001b[0;31mAttributeError\u001b[0m                            Traceback (most recent call last)",
      "Cell \u001b[0;32mIn[12], line 9\u001b[0m\n\u001b[1;32m      7\u001b[0m \u001b[38;5;66;03m# Create a pie chart\u001b[39;00m\n\u001b[1;32m      8\u001b[0m plt\u001b[38;5;241m.\u001b[39mfigure(figsize\u001b[38;5;241m=\u001b[39m(\u001b[38;5;241m8\u001b[39m, \u001b[38;5;241m8\u001b[39m))\n\u001b[0;32m----> 9\u001b[0m plt\u001b[38;5;241m.\u001b[39mpie(portfolio, labels\u001b[38;5;241m=\u001b[39m\u001b[43mportfolio\u001b[49m\u001b[38;5;241;43m.\u001b[39;49m\u001b[43mindex\u001b[49m, autopct\u001b[38;5;241m=\u001b[39m\u001b[38;5;124m'\u001b[39m\u001b[38;5;132;01m%1.1f\u001b[39;00m\u001b[38;5;132;01m%%\u001b[39;00m\u001b[38;5;124m'\u001b[39m, startangle\u001b[38;5;241m=\u001b[39m\u001b[38;5;241m140\u001b[39m)\n\u001b[1;32m     10\u001b[0m plt\u001b[38;5;241m.\u001b[39mtitle(\u001b[38;5;124m'\u001b[39m\u001b[38;5;124mPortfolio Distribution\u001b[39m\u001b[38;5;124m'\u001b[39m)\n\u001b[1;32m     11\u001b[0m plt\u001b[38;5;241m.\u001b[39mshow()\n",
      "\u001b[0;31mAttributeError\u001b[0m: 'collections.OrderedDict' object has no attribute 'index'"
     ]
    },
    {
     "data": {
      "text/plain": [
       "<Figure size 800x800 with 0 Axes>"
      ]
     },
     "metadata": {},
     "output_type": "display_data"
    }
   ],
   "source": [
    "import pandas as pd\n",
    "import matplotlib.pyplot as plt\n",
    "\n",
    "# Example portfolio as a pandas Series\n",
    "portfolio = ef10_cleaned_weights\n",
    "\n",
    "# Create a pie chart\n",
    "plt.figure(figsize=(8, 8))\n",
    "plt.pie(portfolio, labels=portfolio.index, autopct='%1.1f%%', startangle=140)\n",
    "plt.title('Portfolio Distribution')\n",
    "plt.show()\n"
   ]
  },
  {
   "cell_type": "markdown",
   "metadata": {},
   "source": [
    "### Bibliography\n",
    "[1]    Martin, R. A., (2021). PyPortfolioOpt: portfolio optimization in Python. Journal of Open Source Software, 6(61), 3066, https://doi.org/10.21105/joss.03066\n",
    "\n",
    "[2]    Ledoit, Olivier and Wolf, Michael, Honey, I Shrunk the Sample Covariance Matrix (June 2003). UPF Economics and Business Working Paper No. 691, Available at SSRN: https://ssrn.com/abstract=433840 or http://dx.doi.org/10.2139/ssrn.433840 "
   ]
  }
 ],
 "metadata": {
  "kernelspec": {
   "display_name": "Python 3 (ipykernel)",
   "language": "python",
   "name": "python3"
  },
  "language_info": {
   "codemirror_mode": {
    "name": "ipython",
    "version": 3
   },
   "file_extension": ".py",
   "mimetype": "text/x-python",
   "name": "python",
   "nbconvert_exporter": "python",
   "pygments_lexer": "ipython3",
   "version": "3.12.1"
  }
 },
 "nbformat": 4,
 "nbformat_minor": 2
}
