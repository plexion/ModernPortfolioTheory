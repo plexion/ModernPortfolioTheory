{
 "cells": [
  {
   "cell_type": "code",
   "execution_count": null,
   "metadata": {},
   "outputs": [],
   "source": [
    "# Install the necessary libraries\n",
    "!pip install PyPortfolioOpt #Library to perform portfolio optimization\n",
    "!pip install yfinance #Library to download financial data\n",
    "!pip install forex-python #Library to download forex data"
   ]
  },
  {
   "cell_type": "markdown",
   "metadata": {},
   "source": [
    "## Comparison of Modern Portfolio Theory returns and risk models on given set of stocks\n",
    "The idea is to compare the different portfolios that are created as a result of different combinations of returns and risk models.\n",
    "There are many models available for both returns and risk.\n",
    "\n",
    "For returns, I will look at the following:\n",
    " - Mean historical returns\n",
    " - Exponentially weighted mean of historical returns\n",
    " - Returns based on CAPM\n",
    "\n",
    "For risk models, I will look at the following:\n",
    " - Sample covariance\n",
    " - Ledoit-Wolf with 3 different shrinkage targets\n",
    "    - Constant variance\n",
    "    - Single factor\n",
    "    - Constant correlation\n",
    "\n",
    "This results in 3x4 = 12 different portfolios to be compared.\n",
    "\n",
    "\n",
    "\n",
    "\n",
    "\n",
    "\n"
   ]
  },
  {
   "cell_type": "markdown",
   "metadata": {},
   "source": [
    "### Step 1: Pick a portfolio to balance\n",
    "As a starting point I have chosen the following stocks inspired by my friend's portfolio:\n",
    "\n",
    "- Frontline (FRO.OL): NOK (listed on the Oslo Stock Exchange)\n",
    "- Nordea Bank Abp (NDA-FI.HE): EUR (listed on the Helsinki Stock Exchange)\n",
    "- BAWAG Group AG (BG.VI): EUR (listed on the Vienna Stock Exchange)\n",
    "- CaixaBank (CABK.MC): EUR (listed on the Madrid Stock Exchange)\n",
    "- Danske Bank (DANSKE.CO): DKK (listed on the Copenhagen Stock Exchange)\n",
    "- McDonald’s (MCD): USD (listed on the NYSE)\n"
   ]
  },
  {
   "cell_type": "markdown",
   "metadata": {},
   "source": [
    "### Step 2: Read in price data"
   ]
  },
  {
   "cell_type": "code",
   "execution_count": 1,
   "metadata": {},
   "outputs": [],
   "source": [
    "import pandas as pd\n",
    "import yfinance as yf"
   ]
  },
  {
   "cell_type": "code",
   "execution_count": 4,
   "metadata": {},
   "outputs": [
    {
     "name": "stderr",
     "output_type": "stream",
     "text": [
      "[                       0%                       ]"
     ]
    },
    {
     "name": "stderr",
     "output_type": "stream",
     "text": [
      "[*********************100%***********************]  6 of 6 completed\n"
     ]
    },
    {
     "data": {
      "text/html": [
       "<div>\n",
       "<style scoped>\n",
       "    .dataframe tbody tr th:only-of-type {\n",
       "        vertical-align: middle;\n",
       "    }\n",
       "\n",
       "    .dataframe tbody tr th {\n",
       "        vertical-align: top;\n",
       "    }\n",
       "\n",
       "    .dataframe thead th {\n",
       "        text-align: right;\n",
       "    }\n",
       "</style>\n",
       "<table border=\"1\" class=\"dataframe\">\n",
       "  <thead>\n",
       "    <tr style=\"text-align: right;\">\n",
       "      <th></th>\n",
       "      <th>BG.VI</th>\n",
       "      <th>CABK.MC</th>\n",
       "      <th>DANSKE.CO</th>\n",
       "      <th>FRO.OL</th>\n",
       "      <th>MCD</th>\n",
       "      <th>NDA-FI.HE</th>\n",
       "    </tr>\n",
       "    <tr>\n",
       "      <th>Date</th>\n",
       "      <th></th>\n",
       "      <th></th>\n",
       "      <th></th>\n",
       "      <th></th>\n",
       "      <th></th>\n",
       "      <th></th>\n",
       "    </tr>\n",
       "  </thead>\n",
       "  <tbody>\n",
       "    <tr>\n",
       "      <th>2024-09-03 00:00:00+00:00</th>\n",
       "      <td>67.599998</td>\n",
       "      <td>5.310</td>\n",
       "      <td>208.399994</td>\n",
       "      <td>243.567825</td>\n",
       "      <td>285.519989</td>\n",
       "      <td>10.615</td>\n",
       "    </tr>\n",
       "    <tr>\n",
       "      <th>2024-09-04 00:00:00+00:00</th>\n",
       "      <td>68.500000</td>\n",
       "      <td>5.288</td>\n",
       "      <td>210.399994</td>\n",
       "      <td>241.273773</td>\n",
       "      <td>288.029999</td>\n",
       "      <td>10.515</td>\n",
       "    </tr>\n",
       "    <tr>\n",
       "      <th>2024-09-05 00:00:00+00:00</th>\n",
       "      <td>70.900002</td>\n",
       "      <td>5.374</td>\n",
       "      <td>209.699997</td>\n",
       "      <td>238.082062</td>\n",
       "      <td>287.970001</td>\n",
       "      <td>10.685</td>\n",
       "    </tr>\n",
       "    <tr>\n",
       "      <th>2024-09-06 00:00:00+00:00</th>\n",
       "      <td>69.099998</td>\n",
       "      <td>5.318</td>\n",
       "      <td>207.699997</td>\n",
       "      <td>241.572998</td>\n",
       "      <td>289.510010</td>\n",
       "      <td>10.435</td>\n",
       "    </tr>\n",
       "    <tr>\n",
       "      <th>2024-09-09 00:00:00+00:00</th>\n",
       "      <td>69.500000</td>\n",
       "      <td>5.428</td>\n",
       "      <td>206.600006</td>\n",
       "      <td>236.785431</td>\n",
       "      <td>291.290009</td>\n",
       "      <td>10.585</td>\n",
       "    </tr>\n",
       "  </tbody>\n",
       "</table>\n",
       "</div>"
      ],
      "text/plain": [
       "                               BG.VI  CABK.MC   DANSKE.CO      FRO.OL  \\\n",
       "Date                                                                    \n",
       "2024-09-03 00:00:00+00:00  67.599998    5.310  208.399994  243.567825   \n",
       "2024-09-04 00:00:00+00:00  68.500000    5.288  210.399994  241.273773   \n",
       "2024-09-05 00:00:00+00:00  70.900002    5.374  209.699997  238.082062   \n",
       "2024-09-06 00:00:00+00:00  69.099998    5.318  207.699997  241.572998   \n",
       "2024-09-09 00:00:00+00:00  69.500000    5.428  206.600006  236.785431   \n",
       "\n",
       "                                  MCD  NDA-FI.HE  \n",
       "Date                                              \n",
       "2024-09-03 00:00:00+00:00  285.519989     10.615  \n",
       "2024-09-04 00:00:00+00:00  288.029999     10.515  \n",
       "2024-09-05 00:00:00+00:00  287.970001     10.685  \n",
       "2024-09-06 00:00:00+00:00  289.510010     10.435  \n",
       "2024-09-09 00:00:00+00:00  291.290009     10.585  "
      ]
     },
     "metadata": {},
     "output_type": "display_data"
    }
   ],
   "source": [
    "# Ticker symbols for the chosen stocks\n",
    "tickers = ['FRO.OL', 'NDA-FI.HE', 'BG.VI', 'CABK.MC', 'DANSKE.CO', 'MCD']\n",
    "\n",
    "# Download historical data for the specified tickers from Yahoo Finance\n",
    "stock_data = yf.download(tickers, start='2008-01-01', end='2024-09-10')\n",
    "\n",
    "# Extract the adjusted close prices, which we are interested in for the analysis\n",
    "stock_prices = stock_data['Adj Close'].reset_index()\n",
    "stock_prices.columns.name = None\n",
    "stock_prices.set_index('Date', drop = True, inplace = True)\n",
    "display(stock_prices.tail()) #Display the 5 latest prices for the chosen time period"
   ]
  },
  {
   "cell_type": "markdown",
   "metadata": {},
   "source": [
    "### Step 3: Calculate expected returns and portfolio variance with different models"
   ]
  },
  {
   "cell_type": "code",
   "execution_count": 7,
   "metadata": {},
   "outputs": [
    {
     "name": "stderr",
     "output_type": "stream",
     "text": [
      "/usr/local/python/3.12.1/lib/python3.12/site-packages/pypfopt/expected_returns.py:56: FutureWarning: The default fill_method='pad' in DataFrame.pct_change is deprecated and will be removed in a future version. Either fill in any non-leading NA values prior to calling pct_change or specify 'fill_method=None' to not fill NA values.\n",
      "  returns = prices.pct_change().dropna(how=\"all\")\n",
      "/usr/local/python/3.12.1/lib/python3.12/site-packages/pypfopt/expected_returns.py:56: FutureWarning: The default fill_method='pad' in DataFrame.pct_change is deprecated and will be removed in a future version. Either fill in any non-leading NA values prior to calling pct_change or specify 'fill_method=None' to not fill NA values.\n",
      "  returns = prices.pct_change().dropna(how=\"all\")\n",
      "/usr/local/python/3.12.1/lib/python3.12/site-packages/pypfopt/expected_returns.py:56: FutureWarning: The default fill_method='pad' in DataFrame.pct_change is deprecated and will be removed in a future version. Either fill in any non-leading NA values prior to calling pct_change or specify 'fill_method=None' to not fill NA values.\n",
      "  returns = prices.pct_change().dropna(how=\"all\")\n",
      "/usr/local/python/3.12.1/lib/python3.12/site-packages/pypfopt/expected_returns.py:56: FutureWarning: The default fill_method='pad' in DataFrame.pct_change is deprecated and will be removed in a future version. Either fill in any non-leading NA values prior to calling pct_change or specify 'fill_method=None' to not fill NA values.\n",
      "  returns = prices.pct_change().dropna(how=\"all\")\n",
      "/usr/local/python/3.12.1/lib/python3.12/site-packages/pypfopt/expected_returns.py:56: FutureWarning: The default fill_method='pad' in DataFrame.pct_change is deprecated and will be removed in a future version. Either fill in any non-leading NA values prior to calling pct_change or specify 'fill_method=None' to not fill NA values.\n",
      "  returns = prices.pct_change().dropna(how=\"all\")\n",
      "/usr/local/python/3.12.1/lib/python3.12/site-packages/pypfopt/expected_returns.py:56: FutureWarning: The default fill_method='pad' in DataFrame.pct_change is deprecated and will be removed in a future version. Either fill in any non-leading NA values prior to calling pct_change or specify 'fill_method=None' to not fill NA values.\n",
      "  returns = prices.pct_change().dropna(how=\"all\")\n",
      "/usr/local/python/3.12.1/lib/python3.12/site-packages/pypfopt/expected_returns.py:56: FutureWarning: The default fill_method='pad' in DataFrame.pct_change is deprecated and will be removed in a future version. Either fill in any non-leading NA values prior to calling pct_change or specify 'fill_method=None' to not fill NA values.\n",
      "  returns = prices.pct_change().dropna(how=\"all\")\n"
     ]
    }
   ],
   "source": [
    "from pypfopt import EfficientFrontier \n",
    "from pypfopt import risk_models\n",
    "from pypfopt import expected_returns\n",
    "from pypfopt import objective_functions\n",
    "from pypfopt import BlackLittermanModel\n",
    "\n",
    "# Calculate expected returns and sample covariance\n",
    "mu_mean = expected_returns.mean_historical_return(stock_prices) # Annualised mean historical return\n",
    "mu_ema = expected_returns.ema_historical_return(stock_prices) # Exponentially weighted mean\n",
    "mu_capm = expected_returns.capm_return(stock_prices) # Returns calculated based on CAPM\n",
    "\n",
    "# Set up different risk models\n",
    "S_sample_cov = risk_models.sample_cov(stock_prices) # Sample covariance\n",
    "S_LW_cv = risk_models.CovarianceShrinkage(stock_prices).ledoit_wolf(shrinkage_target='constant_variance') # Ledoit-Wolf with constant variance as shrinkage target\n",
    "S_LW_sf = risk_models.CovarianceShrinkage(stock_prices).ledoit_wolf(shrinkage_target='single_factor') # Ledoit-Wolf with single factor(identity matrix) as shrinkage target\n",
    "S_LW_cc = risk_models.CovarianceShrinkage(stock_prices).ledoit_wolf(shrinkage_target='constant_correlation') # Ledoit-Wolf with constant correlation as shrinkage target"
   ]
  },
  {
   "cell_type": "markdown",
   "metadata": {},
   "source": [
    "### Step 4: Optimize for maximal Sharpe ratio on all combinations of returns and risk models\n",
    "\n",
    "- Portfolio 1 is mean historical returns X sample covariance\n",
    "- Portfolio 2 is mean historical returns X Ledoit-Wolf constant variance\n",
    "- Portfolio 3 is mean historical returns X Ledoit-Wolf single factor\n",
    "- Portfolio 4 is mean historical returns X Ledoit-Wolf constant correlation\n",
    "- Portfolio 5 is exponentially weighted mean of historical returns X sample covariance\n",
    "- Portfolio 6 is exponentially weighted mean of historical returns X Ledoit-Wolf constant variance\n",
    "- Portfolio 7 is exponentially weighted mean of historical returns X Ledoit-Wolf single factor\n",
    "- Portfolio 8 is exponentially weighted mean of historical returns X Ledoit-Wolf constant correlation\n",
    "- Portfolio 9 is CAPM X sample covariance\n",
    "- Portfolio 10 is CAPM X Ledoit-Wolf constant variance\n",
    "- Portfolio 11 is CAPM X Ledoit-Wolf single factor\n",
    "- Portfolio 12 is CAPM X Ledoit-Wolf constant correlation"
   ]
  },
  {
   "cell_type": "markdown",
   "metadata": {},
   "source": [
    "#### ef1"
   ]
  },
  {
   "cell_type": "code",
   "execution_count": 9,
   "metadata": {},
   "outputs": [
    {
     "name": "stdout",
     "output_type": "stream",
     "text": [
      "OrderedDict({'BG.VI': 0.15728, 'CABK.MC': 0.0, 'DANSKE.CO': 0.0, 'FRO.OL': 0.0, 'MCD': 0.84272, 'NDA-FI.HE': 0.0})\n",
      "Expected annual return: 12.8%\n",
      "Annual volatility: 18.9%\n",
      "Sharpe Ratio: 0.57\n"
     ]
    },
    {
     "data": {
      "text/plain": [
       "(0.12809974129527324, 0.1892478581368185, 0.5712072113234778)"
      ]
     },
     "execution_count": 9,
     "metadata": {},
     "output_type": "execute_result"
    }
   ],
   "source": [
    "# Optimize for maximal Sharpe ratio\n",
    "ef1 = EfficientFrontier(mu_mean, S_sample_cov) #Add constraints: ef = EfficientFrontier(mu, S, weight_bounds=(0, 0.1)) #Max 10% on each weight.\n",
    "# ef1.add_objective(objective_functions.L2_reg, gamma=1) #Reduce zero-weights by adding penalty on small weights with a L2-regularization term\n",
    "ef1_raw_weights = ef1.max_sharpe()\n",
    "ef1_cleaned_weights = ef1.clean_weights()\n",
    "# ef1.save_weights_to_file(\"weights_apmc_LedoitWolf.csv\")  # saves to file\n",
    "print(ef1_cleaned_weights)\n",
    "ef1.portfolio_performance(verbose=True)"
   ]
  },
  {
   "cell_type": "markdown",
   "metadata": {},
   "source": [
    "#### ef2"
   ]
  },
  {
   "cell_type": "code",
   "execution_count": 10,
   "metadata": {},
   "outputs": [
    {
     "name": "stdout",
     "output_type": "stream",
     "text": [
      "OrderedDict({'BG.VI': 0.43154, 'CABK.MC': 0.0, 'DANSKE.CO': 0.0, 'FRO.OL': 0.0, 'MCD': 0.56846, 'NDA-FI.HE': 0.0})\n",
      "Expected annual return: 12.6%\n",
      "Annual volatility: 15.9%\n",
      "Sharpe Ratio: 0.66\n"
     ]
    },
    {
     "data": {
      "text/plain": [
       "(0.125623423092053, 0.15889621059002754, 0.6647321713956721)"
      ]
     },
     "execution_count": 10,
     "metadata": {},
     "output_type": "execute_result"
    }
   ],
   "source": [
    "# Optimize for maximal Sharpe ratio\n",
    "ef2 = EfficientFrontier(mu_mean, S_LW_cv) #Add constraints: ef = EfficientFrontier(mu, S, weight_bounds=(0, 0.1)) #Max 10% on each weight.\n",
    "# ef2.add_objective(objective_functions.L2_reg, gamma=1) #Reduce zero-weights by adding penalty on small weights with a L2-regularization term\n",
    "ef2_raw_weights = ef2.max_sharpe()\n",
    "ef2_cleaned_weights = ef2.clean_weights()\n",
    "# ef2.save_weights_to_file(\"weights_apmc_LedoitWolf.csv\")  # saves to file\n",
    "print(ef2_cleaned_weights)\n",
    "ef2.portfolio_performance(verbose=True)"
   ]
  },
  {
   "cell_type": "markdown",
   "metadata": {},
   "source": [
    "#### ef5"
   ]
  },
  {
   "cell_type": "code",
   "execution_count": 11,
   "metadata": {},
   "outputs": [
    {
     "name": "stdout",
     "output_type": "stream",
     "text": [
      "OrderedDict({'BG.VI': 0.49195, 'CABK.MC': 0.32487, 'DANSKE.CO': 0.09466, 'FRO.OL': 0.07031, 'MCD': 0.01822, 'NDA-FI.HE': 0.0})\n",
      "Expected annual return: 47.5%\n",
      "Annual volatility: 26.7%\n",
      "Sharpe Ratio: 1.70\n"
     ]
    },
    {
     "data": {
      "text/plain": [
       "(0.47512207643265914, 0.26705556704914013, 1.7042223888518055)"
      ]
     },
     "execution_count": 11,
     "metadata": {},
     "output_type": "execute_result"
    }
   ],
   "source": [
    "# Optimize for maximal Sharpe ratio\n",
    "ef5 = EfficientFrontier(mu_ema, S_sample_cov) #Add constraints: ef = EfficientFrontier(mu, S, weight_bounds=(0, 0.1)) #Max 10% on each weight.\n",
    "# ef5.add_objective(objective_functions.L2_reg, gamma=1) #Reduce zero-weights by adding penalty on small weights with a L2-regularization term\n",
    "ef5_raw_weights = ef5.max_sharpe()\n",
    "ef5_cleaned_weights = ef5.clean_weights()\n",
    "# ef5.save_weights_to_file(\"weights_apmc_LedoitWolf.csv\")  # saves to file\n",
    "print(ef5_cleaned_weights)\n",
    "ef5.portfolio_performance(verbose=True)"
   ]
  },
  {
   "cell_type": "markdown",
   "metadata": {},
   "source": [
    "#### ef6"
   ]
  },
  {
   "cell_type": "code",
   "execution_count": 12,
   "metadata": {},
   "outputs": [
    {
     "name": "stdout",
     "output_type": "stream",
     "text": [
      "OrderedDict({'BG.VI': 0.79132, 'CABK.MC': 0.13713, 'DANSKE.CO': 0.03322, 'FRO.OL': 0.03832, 'MCD': 0.0, 'NDA-FI.HE': 0.0})\n",
      "Expected annual return: 50.3%\n",
      "Annual volatility: 19.7%\n",
      "Sharpe Ratio: 2.45\n"
     ]
    },
    {
     "data": {
      "text/plain": [
       "(0.5027497055083142, 0.19682916179681115, 2.45263304025377)"
      ]
     },
     "execution_count": 12,
     "metadata": {},
     "output_type": "execute_result"
    }
   ],
   "source": [
    "# Optimize for maximal Sharpe ratio\n",
    "ef6 = EfficientFrontier(mu_ema, S_LW_cv) #Add constraints: ef = EfficientFrontier(mu, S, weight_bounds=(0, 0.1)) #Max 10% on each weight.\n",
    "# ef6.add_objective(objective_functions.L2_reg, gamma=1) #Reduce zero-weights by adding penalty on small weights with a L2-regularization term\n",
    "ef6_raw_weights = ef6.max_sharpe()\n",
    "ef6_cleaned_weights = ef6.clean_weights()\n",
    "# ef6.save_weights_to_file(\"weights_apmc_LedoitWolf.csv\")  # saves to file\n",
    "print(ef6_cleaned_weights)\n",
    "ef6.portfolio_performance(verbose=True)"
   ]
  },
  {
   "cell_type": "markdown",
   "metadata": {},
   "source": [
    "#### ef9"
   ]
  },
  {
   "cell_type": "code",
   "execution_count": 13,
   "metadata": {},
   "outputs": [
    {
     "name": "stdout",
     "output_type": "stream",
     "text": [
      "OrderedDict({'BG.VI': 0.16156, 'CABK.MC': 0.1454, 'DANSKE.CO': 0.17201, 'FRO.OL': 0.19282, 'MCD': 0.15008, 'NDA-FI.HE': 0.17814})\n",
      "Expected annual return: 8.2%\n",
      "Annual volatility: 23.9%\n",
      "Sharpe Ratio: 0.26\n"
     ]
    },
    {
     "data": {
      "text/plain": [
       "(0.08240183067822102, 0.23918840748026424, 0.2608898622453928)"
      ]
     },
     "execution_count": 13,
     "metadata": {},
     "output_type": "execute_result"
    }
   ],
   "source": [
    "# Optimize for maximal Sharpe ratio\n",
    "ef9 = EfficientFrontier(mu_capm, S_sample_cov) #Add constraints: ef = EfficientFrontier(mu, S, weight_bounds=(0, 0.1)) #Max 10% on each weight.\n",
    "# ef9.add_objective(objective_functions.L2_reg, gamma=1) #Reduce zero-weights by adding penalty on small weights with a L2-regularization term\n",
    "ef9_raw_weights = ef9.max_sharpe()\n",
    "ef9_cleaned_weights = ef9.clean_weights()\n",
    "# ef9.save_weights_to_file(\"weights_apmc_LedoitWolf.csv\")  # saves to file\n",
    "print(ef9_cleaned_weights)\n",
    "ef9.portfolio_performance(verbose=True)"
   ]
  },
  {
   "cell_type": "markdown",
   "metadata": {},
   "source": [
    "#### ef10"
   ]
  },
  {
   "cell_type": "code",
   "execution_count": 14,
   "metadata": {},
   "outputs": [
    {
     "name": "stdout",
     "output_type": "stream",
     "text": [
      "OrderedDict({'BG.VI': 0.56016, 'CABK.MC': 0.05185, 'DANSKE.CO': 0.09533, 'FRO.OL': 0.13141, 'MCD': 0.06468, 'NDA-FI.HE': 0.09658})\n",
      "Expected annual return: 8.0%\n",
      "Annual volatility: 18.9%\n",
      "Sharpe Ratio: 0.32\n"
     ]
    },
    {
     "data": {
      "text/plain": [
       "(0.07992821311827386, 0.18940587305640275, 0.3164010289186121)"
      ]
     },
     "execution_count": 14,
     "metadata": {},
     "output_type": "execute_result"
    }
   ],
   "source": [
    "# Optimize for maximal Sharpe ratio\n",
    "ef10 = EfficientFrontier(mu_capm, S_LW_cv) #Add constraints: ef = EfficientFrontier(mu, S, weight_bounds=(0, 0.1)) #Max 10% on each weight.\n",
    "# ef10.add_objective(objective_functions.L2_reg, gamma=1) #Reduce zero-weights by adding penalty on small weights with a L2-regularization term\n",
    "ef10_raw_weights = ef10.max_sharpe()\n",
    "ef10_cleaned_weights = ef10.clean_weights()\n",
    "# ef10.save_weights_to_file(\"weights_apmc_LedoitWolf.csv\")  # saves to file\n",
    "print(ef10_cleaned_weights)\n",
    "ef10.portfolio_performance(verbose=True)"
   ]
  },
  {
   "cell_type": "code",
   "execution_count": 16,
   "metadata": {},
   "outputs": [
    {
     "data": {
      "text/plain": [
       "OrderedDict([('BG.VI', 0.56016),\n",
       "             ('CABK.MC', 0.05185),\n",
       "             ('DANSKE.CO', 0.09533),\n",
       "             ('FRO.OL', 0.13141),\n",
       "             ('MCD', 0.06468),\n",
       "             ('NDA-FI.HE', 0.09658)])"
      ]
     },
     "metadata": {},
     "output_type": "display_data"
    }
   ],
   "source": [
    "display(ef10_cleaned_weights)"
   ]
  },
  {
   "cell_type": "code",
   "execution_count": 17,
   "metadata": {},
   "outputs": [],
   "source": [
    "portfolios = {\n",
    "    'Portfolio 1': [2000, 1500, 2500, 1000, 1500, 1500],\n",
    "    'Portfolio 2': [1800, 1600, 2400, 1200, 1400, 1600],\n",
    "    'Portfolio 3': [2200, 1300, 2300, 1100, 1700, 1400],\n",
    "    'Portfolio 4': [2100, 1400, 2200, 1300, 1600, 1400],\n",
    "    'Portfolio 5': [1900, 1700, 2100, 1200, 1500, 1600],\n",
    "    'Portfolio 6': [2000, 1600, 2000, 1400, 1400, 1600]\n",
    "}"
   ]
  },
  {
   "cell_type": "code",
   "execution_count": 18,
   "metadata": {},
   "outputs": [
    {
     "data": {
      "text/plain": [
       "{'Portfolio 1': [2000, 1500, 2500, 1000, 1500, 1500],\n",
       " 'Portfolio 2': [1800, 1600, 2400, 1200, 1400, 1600],\n",
       " 'Portfolio 3': [2200, 1300, 2300, 1100, 1700, 1400],\n",
       " 'Portfolio 4': [2100, 1400, 2200, 1300, 1600, 1400],\n",
       " 'Portfolio 5': [1900, 1700, 2100, 1200, 1500, 1600],\n",
       " 'Portfolio 6': [2000, 1600, 2000, 1400, 1400, 1600]}"
      ]
     },
     "metadata": {},
     "output_type": "display_data"
    }
   ],
   "source": [
    "display(portfolios)"
   ]
  },
  {
   "cell_type": "markdown",
   "metadata": {},
   "source": [
    "### Step 5: Compare the different portfolios"
   ]
  },
  {
   "cell_type": "code",
   "execution_count": 20,
   "metadata": {},
   "outputs": [
    {
     "data": {
      "image/png": "[encoded data removed]",
      "text/plain": [
       "<Figure size 1000x700 with 1 Axes>"
      ]
     },
     "metadata": {},
     "output_type": "display_data"
    }
   ],
   "source": [
    "import matplotlib.pyplot as plt\n",
    "from collections import OrderedDict\n",
    "\n",
    "portfolios = {\n",
    "    'Portfolio 1': ef1_cleaned_weights,\n",
    "    'Portfolio 2': ef2_cleaned_weights,\n",
    "    'Portfolio 5': ef5_cleaned_weights,\n",
    "    'Portfolio 6': ef6_cleaned_weights,\n",
    "    'Portfolio 9': ef9_cleaned_weights,\n",
    "    'Portfolio 10': ef10_cleaned_weights\n",
    "}\n",
    "\n",
    "# Stock labels\n",
    "stocks = list(ef1_cleaned_weights.keys())\n",
    "\n",
    "# Create a figure and axis\n",
    "fig, ax = plt.subplots(figsize=(10, 7))\n",
    "\n",
    "# Plot each portfolio as a bar chart\n",
    "for i, (portfolio_name, values) in enumerate(portfolios.items()):\n",
    "    ax.bar([x + i*0.1 for x in range(len(stocks))], values.values(), width=0.1, label=portfolio_name)\n",
    "\n",
    "# Set the x-axis labels\n",
    "ax.set_xticks([x + 0.25 for x in range(len(stocks))])\n",
    "ax.set_xticklabels(stocks)\n",
    "\n",
    "# Set the labels and title\n",
    "ax.set_xlabel('Stocks')\n",
    "ax.set_ylabel('Investment Proportion')\n",
    "ax.set_title('Comparison of Different Portfolios')\n",
    "\n",
    "# Add a legend\n",
    "ax.legend()\n",
    "\n",
    "# Show the plot\n",
    "plt.show()\n"
   ]
  }
 ],
 "metadata": {
  "kernelspec": {
   "display_name": "Python 3 (ipykernel)",
   "language": "python",
   "name": "python3"
  },
  "language_info": {
   "codemirror_mode": {
    "name": "ipython",
    "version": 3
   },
   "file_extension": ".py",
   "mimetype": "text/x-python",
   "name": "python",
   "nbconvert_exporter": "python",
   "pygments_lexer": "ipython3",
   "version": "3.12.1"
  }
 },
 "nbformat": 4,
 "nbformat_minor": 2
}
